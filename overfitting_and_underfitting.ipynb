{
  "nbformat": 4,
  "nbformat_minor": 0,
  "metadata": {
    "colab": {
      "name": "overfitting-and-underfitting.ipynb",
      "provenance": [],
      "collapsed_sections": []
    },
    "kernelspec": {
      "name": "python3",
      "display_name": "Python 3"
    },
    "language_info": {
      "name": "python"
    }
  },
  "cells": [
    {
      "cell_type": "code",
      "source": [
        "from keras.datasets import imdb\n",
        "import numpy as np \n",
        "\n",
        "(train_data, train_labels), (test_data, test_labels) = imdb.load_data(num_words=10000)\n",
        "\n",
        "def vectorize_sequences(sequences, dimension=10000):\n",
        "  # Create an all-zero matrix of shape (len(sequences), dimension)\n",
        "  results = np.zeros((len(sequences), dimension))\n",
        "  for i, sequence in enumerate(sequences):\n",
        "    results[i, sequence] = 1.  # set specific indices of results[i] to 1s\n",
        "  return results\n",
        "\n",
        "# Our vectorized training data\n",
        "x_train = vectorize_sequences(train_data)\n",
        "# Our vectorized test data\n",
        "x_test = vectorize_sequences(test_data)\n",
        "# Our vectorized labels\n",
        "y_train = np.asarray(train_labels).astype('float32')\n",
        "y_test = np.asarray(test_labels).astype('float32')"
      ],
      "metadata": {
        "colab": {
          "base_uri": "https://localhost:8080/"
        },
        "id": "dFm73E5VkYsf",
        "outputId": "ce56edaf-6f5a-4f6f-af92-a34f8d0ed505"
      },
      "execution_count": 32,
      "outputs": [
        {
          "output_type": "stream",
          "name": "stdout",
          "text": [
            "Downloading data from https://storage.googleapis.com/tensorflow/tf-keras-datasets/imdb.npz\n",
            "17465344/17464789 [==============================] - 0s 0us/step\n",
            "17473536/17464789 [==============================] - 0s 0us/step\n"
          ]
        }
      ]
    },
    {
      "cell_type": "code",
      "source": [
        "#Let's try this on our movie review classification network. Our original network was as such:\n",
        "\n",
        "from keras import layers \n",
        "from keras import models \n",
        "\n",
        "original_model = models.Sequential()\n",
        "original_model.add(layers.Dense(64, activation='relu', input_shape=(10000,)))\n",
        "original_model.add(layers.Dense(64, activation='relu'))\n",
        "original_model.add(layers.Dense(1, activation='sigmoid'))\n",
        "\n",
        "original_model.compile(optimizer='rmsprop',\n",
        "                       loss='binary_crossentropy',\n",
        "                       metrics=['accuracy'])"
      ],
      "metadata": {
        "id": "Cry5x1eiq8Xw"
      },
      "execution_count": 33,
      "outputs": []
    },
    {
      "cell_type": "code",
      "source": [
        "#Now let's try to replace it with this smaller network:\n",
        "\n",
        "smaller_model = models.Sequential()\n",
        "smaller_model.add(layers.Dense(4, activation='relu', input_shape=(10000,)))\n",
        "smaller_model.add(layers.Dense(4, activation='relu'))\n",
        "smaller_model.add(layers.Dense(1, activation='sigmoid'))\n",
        "\n",
        "smaller_model.compile(optimizer='rmsprop',\n",
        "                      loss='binary_crossentropy',\n",
        "                      metrics=['accuracy'])"
      ],
      "metadata": {
        "id": "mpUIKRN8rrZa"
      },
      "execution_count": 34,
      "outputs": []
    },
    {
      "cell_type": "code",
      "source": [
        "original_hist = original_model.fit(x_train, y_train,\n",
        "                                   epochs=20,\n",
        "                                   batch_size=512,\n",
        "                                   validation_data=(x_test, y_test))"
      ],
      "metadata": {
        "colab": {
          "base_uri": "https://localhost:8080/"
        },
        "id": "NS9wDvbhsaZ-",
        "outputId": "cf7516b6-66a3-40c7-c451-4b51f4b6c7cc"
      },
      "execution_count": 35,
      "outputs": [
        {
          "output_type": "stream",
          "name": "stdout",
          "text": [
            "Epoch 1/20\n",
            "49/49 [==============================] - 6s 113ms/step - loss: 0.4151 - accuracy: 0.8232 - val_loss: 0.3109 - val_accuracy: 0.8766\n",
            "Epoch 2/20\n",
            "49/49 [==============================] - 4s 86ms/step - loss: 0.2394 - accuracy: 0.9098 - val_loss: 0.3016 - val_accuracy: 0.8767\n",
            "Epoch 3/20\n",
            "49/49 [==============================] - 3s 69ms/step - loss: 0.1842 - accuracy: 0.9302 - val_loss: 0.2990 - val_accuracy: 0.8826\n",
            "Epoch 4/20\n",
            "49/49 [==============================] - 3s 66ms/step - loss: 0.1468 - accuracy: 0.9451 - val_loss: 0.3420 - val_accuracy: 0.8716\n",
            "Epoch 5/20\n",
            "49/49 [==============================] - 3s 66ms/step - loss: 0.1227 - accuracy: 0.9558 - val_loss: 0.3436 - val_accuracy: 0.8758\n",
            "Epoch 6/20\n",
            "49/49 [==============================] - 3s 71ms/step - loss: 0.0856 - accuracy: 0.9695 - val_loss: 0.4711 - val_accuracy: 0.8557\n",
            "Epoch 7/20\n",
            "49/49 [==============================] - 3s 69ms/step - loss: 0.0698 - accuracy: 0.9762 - val_loss: 0.4289 - val_accuracy: 0.8701\n",
            "Epoch 8/20\n",
            "49/49 [==============================] - 4s 85ms/step - loss: 0.0538 - accuracy: 0.9819 - val_loss: 0.4490 - val_accuracy: 0.8677\n",
            "Epoch 9/20\n",
            "49/49 [==============================] - 4s 87ms/step - loss: 0.0363 - accuracy: 0.9901 - val_loss: 0.5198 - val_accuracy: 0.8666\n",
            "Epoch 10/20\n",
            "49/49 [==============================] - 4s 76ms/step - loss: 0.0259 - accuracy: 0.9928 - val_loss: 0.5988 - val_accuracy: 0.8642\n",
            "Epoch 11/20\n",
            "49/49 [==============================] - 5s 113ms/step - loss: 0.0254 - accuracy: 0.9935 - val_loss: 0.6309 - val_accuracy: 0.8629\n",
            "Epoch 12/20\n",
            "49/49 [==============================] - 5s 105ms/step - loss: 0.0257 - accuracy: 0.9940 - val_loss: 0.6611 - val_accuracy: 0.8632\n",
            "Epoch 13/20\n",
            "49/49 [==============================] - 4s 91ms/step - loss: 0.0158 - accuracy: 0.9963 - val_loss: 1.0950 - val_accuracy: 0.8237\n",
            "Epoch 14/20\n",
            "49/49 [==============================] - 4s 82ms/step - loss: 0.0048 - accuracy: 0.9990 - val_loss: 0.8064 - val_accuracy: 0.8619\n",
            "Epoch 15/20\n",
            "49/49 [==============================] - 4s 83ms/step - loss: 0.0176 - accuracy: 0.9954 - val_loss: 0.8306 - val_accuracy: 0.8603\n",
            "Epoch 16/20\n",
            "49/49 [==============================] - 4s 77ms/step - loss: 8.0167e-04 - accuracy: 1.0000 - val_loss: 0.9391 - val_accuracy: 0.8612\n",
            "Epoch 17/20\n",
            "49/49 [==============================] - 5s 103ms/step - loss: 0.0173 - accuracy: 0.9958 - val_loss: 0.9506 - val_accuracy: 0.8595\n",
            "Epoch 18/20\n",
            "49/49 [==============================] - 4s 76ms/step - loss: 3.2829e-04 - accuracy: 1.0000 - val_loss: 1.0588 - val_accuracy: 0.8594\n",
            "Epoch 19/20\n",
            "49/49 [==============================] - 3s 65ms/step - loss: 0.0218 - accuracy: 0.9960 - val_loss: 1.0741 - val_accuracy: 0.8593\n",
            "Epoch 20/20\n",
            "49/49 [==============================] - 3s 66ms/step - loss: 1.4410e-04 - accuracy: 1.0000 - val_loss: 1.1310 - val_accuracy: 0.8582\n"
          ]
        }
      ]
    },
    {
      "cell_type": "code",
      "source": [
        "smaller_model_hist = smaller_model.fit(x_train, y_train,\n",
        "                                       epochs=20,\n",
        "                                       batch_size=512,\n",
        "                                       validation_data=(x_test, y_test))"
      ],
      "metadata": {
        "colab": {
          "base_uri": "https://localhost:8080/"
        },
        "id": "yZqiq5WIsq6D",
        "outputId": "ad1c7d14-b88c-469d-8350-ec66f959b59c"
      },
      "execution_count": 36,
      "outputs": [
        {
          "output_type": "stream",
          "name": "stdout",
          "text": [
            "Epoch 1/20\n",
            "49/49 [==============================] - 4s 64ms/step - loss: 0.5689 - accuracy: 0.7624 - val_loss: 0.4844 - val_accuracy: 0.8402\n",
            "Epoch 2/20\n",
            "49/49 [==============================] - 3s 52ms/step - loss: 0.4013 - accuracy: 0.8887 - val_loss: 0.3775 - val_accuracy: 0.8797\n",
            "Epoch 3/20\n",
            "49/49 [==============================] - 2s 45ms/step - loss: 0.3066 - accuracy: 0.9094 - val_loss: 0.3226 - val_accuracy: 0.8866\n",
            "Epoch 4/20\n",
            "49/49 [==============================] - 2s 39ms/step - loss: 0.2516 - accuracy: 0.9215 - val_loss: 0.2984 - val_accuracy: 0.8882\n",
            "Epoch 5/20\n",
            "49/49 [==============================] - 2s 45ms/step - loss: 0.2159 - accuracy: 0.9305 - val_loss: 0.2863 - val_accuracy: 0.8884\n",
            "Epoch 6/20\n",
            "49/49 [==============================] - 2s 38ms/step - loss: 0.1903 - accuracy: 0.9374 - val_loss: 0.2806 - val_accuracy: 0.8888\n",
            "Epoch 7/20\n",
            "49/49 [==============================] - 3s 53ms/step - loss: 0.1711 - accuracy: 0.9422 - val_loss: 0.2817 - val_accuracy: 0.8885\n",
            "Epoch 8/20\n",
            "49/49 [==============================] - 2s 44ms/step - loss: 0.1562 - accuracy: 0.9475 - val_loss: 0.2970 - val_accuracy: 0.8814\n",
            "Epoch 9/20\n",
            "49/49 [==============================] - 2s 43ms/step - loss: 0.1435 - accuracy: 0.9531 - val_loss: 0.2960 - val_accuracy: 0.8839\n",
            "Epoch 10/20\n",
            "49/49 [==============================] - 2s 38ms/step - loss: 0.1330 - accuracy: 0.9570 - val_loss: 0.3050 - val_accuracy: 0.8810\n",
            "Epoch 11/20\n",
            "49/49 [==============================] - 2s 42ms/step - loss: 0.1233 - accuracy: 0.9603 - val_loss: 0.3155 - val_accuracy: 0.8799\n",
            "Epoch 12/20\n",
            "49/49 [==============================] - 2s 43ms/step - loss: 0.1151 - accuracy: 0.9638 - val_loss: 0.3271 - val_accuracy: 0.8772\n",
            "Epoch 13/20\n",
            "49/49 [==============================] - 2s 46ms/step - loss: 0.1069 - accuracy: 0.9668 - val_loss: 0.3406 - val_accuracy: 0.8755\n",
            "Epoch 14/20\n",
            "49/49 [==============================] - 2s 42ms/step - loss: 0.0998 - accuracy: 0.9695 - val_loss: 0.3613 - val_accuracy: 0.8710\n",
            "Epoch 15/20\n",
            "49/49 [==============================] - 2s 42ms/step - loss: 0.0939 - accuracy: 0.9711 - val_loss: 0.3762 - val_accuracy: 0.8691\n",
            "Epoch 16/20\n",
            "49/49 [==============================] - 3s 57ms/step - loss: 0.0877 - accuracy: 0.9742 - val_loss: 0.3885 - val_accuracy: 0.8696\n",
            "Epoch 17/20\n",
            "49/49 [==============================] - 2s 42ms/step - loss: 0.0818 - accuracy: 0.9759 - val_loss: 0.4076 - val_accuracy: 0.8659\n",
            "Epoch 18/20\n",
            "49/49 [==============================] - 2s 38ms/step - loss: 0.0759 - accuracy: 0.9788 - val_loss: 0.4200 - val_accuracy: 0.8667\n",
            "Epoch 19/20\n",
            "49/49 [==============================] - 2s 38ms/step - loss: 0.0716 - accuracy: 0.9787 - val_loss: 0.4398 - val_accuracy: 0.8648\n",
            "Epoch 20/20\n",
            "49/49 [==============================] - 2s 39ms/step - loss: 0.0668 - accuracy: 0.9813 - val_loss: 0.4610 - val_accuracy: 0.8616\n"
          ]
        }
      ]
    },
    {
      "cell_type": "code",
      "source": [
        "epochs = range(1, 21)\n",
        "original_val_loss = original_hist.history['val_loss']\n",
        "smaller_model_val_loss = smaller_model_hist.history['val_loss']"
      ],
      "metadata": {
        "id": "UD9ce1j7s_iq"
      },
      "execution_count": 39,
      "outputs": []
    },
    {
      "cell_type": "code",
      "source": [
        "import matplotlib.pyplot as plt \n",
        "\n",
        "# b+ is for \"blue cross\"\n",
        "plt.plot(epochs, original_val_loss, 'b+', label='Original Model')\n",
        "# \"bo\" is for \"blue dot\"\n",
        "plt.plot(epochs, smaller_model_val_loss, 'bo', label='Smaller Model')\n",
        "plt.xlabel('Epochs')\n",
        "plt.ylabel('Validation Loss')\n",
        "plt.legend()\n",
        "\n",
        "plt.show()"
      ],
      "metadata": {
        "colab": {
          "base_uri": "https://localhost:8080/",
          "height": 279
        },
        "id": "VPsqtvYKtWGF",
        "outputId": "ec8f0b69-e44b-4c57-9450-bc44360589c1"
      },
      "execution_count": 40,
      "outputs": [
        {
          "output_type": "display_data",
          "data": {
            "text/plain": [
              "<Figure size 432x288 with 1 Axes>"
            ],
            "image/png": "[encoded data removed]"
          },
          "metadata": {
            "needs_background": "light"
          }
        }
      ]
    },
    {
      "cell_type": "code",
      "source": [
        "bigger_model = models.Sequential()\n",
        "bigger_model.add(layers.Dense(512, activation='relu', input_shape=(10000,)))\n",
        "bigger_model.add(layers.Dense(512, activation='relu'))\n",
        "bigger_model.add(layers.Dense(1, activation='sigmoid'))\n",
        "\n",
        "bigger_model.compile(optimizer='rmsprop',\n",
        "                     loss='binary_crossentropy',\n",
        "                     metrics=['accuracy'])"
      ],
      "metadata": {
        "id": "Aeoys7-cuFOr"
      },
      "execution_count": 41,
      "outputs": []
    },
    {
      "cell_type": "code",
      "source": [
        "bigger_model_hist = bigger_model.fit(x_train, y_train,\n",
        "                                     epochs=20,\n",
        "                                     batch_size=512,\n",
        "                                     validation_data=(x_test, y_test))"
      ],
      "metadata": {
        "colab": {
          "base_uri": "https://localhost:8080/"
        },
        "id": "O9r5QvA40pRn",
        "outputId": "25ab6b90-b16e-4a85-9646-f91edbe25f1a"
      },
      "execution_count": 42,
      "outputs": [
        {
          "output_type": "stream",
          "name": "stdout",
          "text": [
            "Epoch 1/20\n",
            "49/49 [==============================] - 18s 350ms/step - loss: 0.4556 - accuracy: 0.8024 - val_loss: 0.2853 - val_accuracy: 0.8828\n",
            "Epoch 2/20\n",
            "49/49 [==============================] - 20s 418ms/step - loss: 0.2223 - accuracy: 0.9128 - val_loss: 0.2917 - val_accuracy: 0.8833\n",
            "Epoch 3/20\n",
            "49/49 [==============================] - 23s 474ms/step - loss: 0.1224 - accuracy: 0.9543 - val_loss: 0.3944 - val_accuracy: 0.8696\n",
            "Epoch 4/20\n",
            "49/49 [==============================] - 19s 385ms/step - loss: 0.0739 - accuracy: 0.9756 - val_loss: 0.3729 - val_accuracy: 0.8835\n",
            "Epoch 5/20\n",
            "49/49 [==============================] - 24s 491ms/step - loss: 0.0584 - accuracy: 0.9875 - val_loss: 0.3787 - val_accuracy: 0.8805\n",
            "Epoch 6/20\n",
            "49/49 [==============================] - 22s 463ms/step - loss: 0.0039 - accuracy: 0.9997 - val_loss: 0.7058 - val_accuracy: 0.8764\n",
            "Epoch 7/20\n",
            "49/49 [==============================] - 21s 423ms/step - loss: 3.4411e-04 - accuracy: 1.0000 - val_loss: 1.2192 - val_accuracy: 0.8559\n",
            "Epoch 8/20\n",
            "49/49 [==============================] - 22s 443ms/step - loss: 0.1205 - accuracy: 0.9900 - val_loss: 0.7534 - val_accuracy: 0.8806\n",
            "Epoch 9/20\n",
            "49/49 [==============================] - 21s 441ms/step - loss: 8.8994e-05 - accuracy: 1.0000 - val_loss: 0.9321 - val_accuracy: 0.8809\n",
            "Epoch 10/20\n",
            "49/49 [==============================] - 25s 517ms/step - loss: 0.1408 - accuracy: 0.9900 - val_loss: 0.9284 - val_accuracy: 0.8620\n",
            "Epoch 11/20\n",
            "49/49 [==============================] - 20s 410ms/step - loss: 2.6362e-04 - accuracy: 1.0000 - val_loss: 0.8439 - val_accuracy: 0.8768\n",
            "Epoch 12/20\n",
            "49/49 [==============================] - 19s 386ms/step - loss: 3.9104e-05 - accuracy: 1.0000 - val_loss: 0.9412 - val_accuracy: 0.8787\n",
            "Epoch 13/20\n",
            "49/49 [==============================] - 20s 420ms/step - loss: 5.5950e-06 - accuracy: 1.0000 - val_loss: 1.1132 - val_accuracy: 0.8781\n",
            "Epoch 14/20\n",
            "49/49 [==============================] - 23s 482ms/step - loss: 0.1162 - accuracy: 0.9910 - val_loss: 1.0097 - val_accuracy: 0.8656\n",
            "Epoch 15/20\n",
            "49/49 [==============================] - 26s 525ms/step - loss: 6.6012e-05 - accuracy: 1.0000 - val_loss: 0.9365 - val_accuracy: 0.8756\n",
            "Epoch 16/20\n",
            "49/49 [==============================] - 23s 482ms/step - loss: 1.5716e-05 - accuracy: 1.0000 - val_loss: 0.9895 - val_accuracy: 0.8769\n",
            "Epoch 17/20\n",
            "49/49 [==============================] - 24s 476ms/step - loss: 3.6741e-06 - accuracy: 1.0000 - val_loss: 1.1055 - val_accuracy: 0.8782\n",
            "Epoch 18/20\n",
            "49/49 [==============================] - 22s 460ms/step - loss: 6.6223e-07 - accuracy: 1.0000 - val_loss: 1.2712 - val_accuracy: 0.8785\n",
            "Epoch 19/20\n",
            "49/49 [==============================] - 18s 364ms/step - loss: 1.3485e-07 - accuracy: 1.0000 - val_loss: 1.3903 - val_accuracy: 0.8790\n",
            "Epoch 20/20\n",
            "49/49 [==============================] - 18s 380ms/step - loss: 3.7631e-08 - accuracy: 1.0000 - val_loss: 1.4831 - val_accuracy: 0.8789\n"
          ]
        }
      ]
    },
    {
      "cell_type": "code",
      "source": [
        "bigger_model_val_loss = bigger_model_hist.history['val_loss']\n",
        "\n",
        "plt.plot(epochs, original_val_loss, 'b+', label='Original Model')\n",
        "plt.plot(epochs, bigger_model_val_loss, 'bo', label='Bigger Model')\n",
        "plt.xlabel('Epochs')\n",
        "plt.ylabel('Validation Loss')\n",
        "plt.legend()\n",
        "\n",
        "plt.show()"
      ],
      "metadata": {
        "colab": {
          "base_uri": "https://localhost:8080/",
          "height": 279
        },
        "id": "GBq455da012O",
        "outputId": "b70c86ed-c84a-4122-e0f1-971ccfe5a56b"
      },
      "execution_count": 43,
      "outputs": [
        {
          "output_type": "display_data",
          "data": {
            "text/plain": [
              "<Figure size 432x288 with 1 Axes>"
            ],
            "image/png": "[encoded data removed]"
          },
          "metadata": {
            "needs_background": "light"
          }
        }
      ]
    },
    {
      "cell_type": "code",
      "source": [
        "original_train_loss = original_hist.history['loss']\n",
        "bigger_model_train_loss = bigger_model_hist.history['loss']\n",
        "\n",
        "plt.plot(epochs, original_train_loss, 'b+', label='Original Model')\n",
        "plt.plot(epochs, bigger_model_train_loss, 'bo', label='Bigger Model')\n",
        "plt.xlabel('Epochs')\n",
        "plt.ylabel('Training Loss')\n",
        "plt.legend()\n",
        "\n",
        "plt.show()"
      ],
      "metadata": {
        "colab": {
          "base_uri": "https://localhost:8080/",
          "height": 279
        },
        "id": "qCFr7b9m1rZ9",
        "outputId": "fb645e6c-847c-45e5-99ad-fe14190e64c4"
      },
      "execution_count": 44,
      "outputs": [
        {
          "output_type": "display_data",
          "data": {
            "text/plain": [
              "<Figure size 432x288 with 1 Axes>"
            ],
            "image/png": "[encoded data removed]"
          },
          "metadata": {
            "needs_background": "light"
          }
        }
      ]
    },
    {
      "cell_type": "code",
      "source": [
        "#Adding weight regularization\n",
        "\n",
        "from keras import regularizers\n",
        "\n",
        "l2_model =  models.Sequential()\n",
        "l2_model.add(layers.Dense(16, kernel_regularizer=regularizers.l2(0.001),\n",
        "                          activation='relu', input_shape=(10000,)))\n",
        "l2_model.add(layers.Dense(16, kernel_regularizer=regularizers.l2(0.001),\n",
        "                          activation='relu'))\n",
        "l2_model.add(layers.Dense(1, activation='sigmoid'))"
      ],
      "metadata": {
        "id": "H1nlxjWI2Yqj"
      },
      "execution_count": 48,
      "outputs": []
    },
    {
      "cell_type": "code",
      "source": [
        "l2_model.compile(optimizer='rmsprop',\n",
        "                 loss='binary_crossentropy',\n",
        "                 metrics=['accuracy'])"
      ],
      "metadata": {
        "id": "XXnd5AIf5cfu"
      },
      "execution_count": 49,
      "outputs": []
    },
    {
      "cell_type": "code",
      "source": [
        "l2_model_hist = l2_model.fit(x_train, y_train,\n",
        "                             epochs=20,\n",
        "                             batch_size=512,\n",
        "                             validation_data=(x_test, y_test))"
      ],
      "metadata": {
        "colab": {
          "base_uri": "https://localhost:8080/"
        },
        "id": "SwgO0EFB5-Iw",
        "outputId": "11276798-3fb0-4777-cc3e-30bd94aa69d9"
      },
      "execution_count": 50,
      "outputs": [
        {
          "output_type": "stream",
          "name": "stdout",
          "text": [
            "Epoch 1/20\n",
            "49/49 [==============================] - 4s 65ms/step - loss: 0.4840 - accuracy: 0.8256 - val_loss: 0.3717 - val_accuracy: 0.8823\n",
            "Epoch 2/20\n",
            "49/49 [==============================] - 2s 42ms/step - loss: 0.3085 - accuracy: 0.9050 - val_loss: 0.3375 - val_accuracy: 0.8838\n",
            "Epoch 3/20\n",
            "49/49 [==============================] - 2s 42ms/step - loss: 0.2642 - accuracy: 0.9201 - val_loss: 0.3458 - val_accuracy: 0.8799\n",
            "Epoch 4/20\n",
            "49/49 [==============================] - 2s 44ms/step - loss: 0.2449 - accuracy: 0.9288 - val_loss: 0.3843 - val_accuracy: 0.8668\n",
            "Epoch 5/20\n",
            "49/49 [==============================] - 2s 50ms/step - loss: 0.2385 - accuracy: 0.9321 - val_loss: 0.3903 - val_accuracy: 0.8668\n",
            "Epoch 6/20\n",
            "49/49 [==============================] - 2s 49ms/step - loss: 0.2274 - accuracy: 0.9374 - val_loss: 0.3804 - val_accuracy: 0.8700\n",
            "Epoch 7/20\n",
            "49/49 [==============================] - 2s 49ms/step - loss: 0.2218 - accuracy: 0.9406 - val_loss: 0.3606 - val_accuracy: 0.8793\n",
            "Epoch 8/20\n",
            "49/49 [==============================] - 2s 47ms/step - loss: 0.2177 - accuracy: 0.9420 - val_loss: 0.3758 - val_accuracy: 0.8752\n",
            "Epoch 9/20\n",
            "49/49 [==============================] - 3s 54ms/step - loss: 0.2139 - accuracy: 0.9416 - val_loss: 0.3735 - val_accuracy: 0.8757\n",
            "Epoch 10/20\n",
            "49/49 [==============================] - 2s 45ms/step - loss: 0.2088 - accuracy: 0.9446 - val_loss: 0.3826 - val_accuracy: 0.8749\n",
            "Epoch 11/20\n",
            "49/49 [==============================] - 3s 60ms/step - loss: 0.2049 - accuracy: 0.9447 - val_loss: 0.3962 - val_accuracy: 0.8712\n",
            "Epoch 12/20\n",
            "49/49 [==============================] - 3s 64ms/step - loss: 0.2023 - accuracy: 0.9471 - val_loss: 0.3997 - val_accuracy: 0.8705\n",
            "Epoch 13/20\n",
            "49/49 [==============================] - 3s 65ms/step - loss: 0.2045 - accuracy: 0.9463 - val_loss: 0.3956 - val_accuracy: 0.8718\n",
            "Epoch 14/20\n",
            "49/49 [==============================] - 3s 54ms/step - loss: 0.1978 - accuracy: 0.9493 - val_loss: 0.4193 - val_accuracy: 0.8653\n",
            "Epoch 15/20\n",
            "49/49 [==============================] - 2s 48ms/step - loss: 0.1934 - accuracy: 0.9508 - val_loss: 0.4139 - val_accuracy: 0.8696\n",
            "Epoch 16/20\n",
            "49/49 [==============================] - 2s 49ms/step - loss: 0.1918 - accuracy: 0.9517 - val_loss: 0.4382 - val_accuracy: 0.8597\n",
            "Epoch 17/20\n",
            "49/49 [==============================] - 3s 59ms/step - loss: 0.1931 - accuracy: 0.9500 - val_loss: 0.4230 - val_accuracy: 0.8685\n",
            "Epoch 18/20\n",
            "49/49 [==============================] - 3s 53ms/step - loss: 0.1863 - accuracy: 0.9536 - val_loss: 0.4269 - val_accuracy: 0.8666\n",
            "Epoch 19/20\n",
            "49/49 [==============================] - 3s 72ms/step - loss: 0.1863 - accuracy: 0.9532 - val_loss: 0.4237 - val_accuracy: 0.8687\n",
            "Epoch 20/20\n",
            "49/49 [==============================] - 3s 59ms/step - loss: 0.1867 - accuracy: 0.9540 - val_loss: 0.4300 - val_accuracy: 0.8684\n"
          ]
        }
      ]
    },
    {
      "cell_type": "code",
      "source": [
        "l2_model_val_loss = l2_model_hist.history['val_loss']\n",
        "\n",
        "plt.plot(epochs, original_val_loss, 'b+', label='Original Model')\n",
        "plt.plot(epochs, l2_model_val_loss, 'bo', label='L2_regularized Model')\n",
        "plt.xlabel('Epochs')\n",
        "plt.ylabel('Validation Loss')\n",
        "plt.legend()\n",
        "\n",
        "plt.show()"
      ],
      "metadata": {
        "colab": {
          "base_uri": "https://localhost:8080/",
          "height": 279
        },
        "id": "t8AxmSPn6OnL",
        "outputId": "7a2aeea8-e16c-4b44-9f40-7f5de7804d87"
      },
      "execution_count": 51,
      "outputs": [
        {
          "output_type": "display_data",
          "data": {
            "text/plain": [
              "<Figure size 432x288 with 1 Axes>"
            ],
            "image/png": "[encoded data removed]"
          },
          "metadata": {
            "needs_background": "light"
          }
        }
      ]
    },
    {
      "cell_type": "code",
      "source": [
        "from keras import regularizers\n",
        "\n",
        "# L1 regularization\n",
        "regularizers.l1(0.001)\n",
        "\n",
        "# L1 and L2 regularization at the same time\n",
        "regularizers.l1_l2(l1=0.001, l2=0.001)"
      ],
      "metadata": {
        "colab": {
          "base_uri": "https://localhost:8080/"
        },
        "id": "2PvzzVUo64rD",
        "outputId": "b0a67d97-a679-4a00-c584-cc45b0ddcfb5"
      },
      "execution_count": 52,
      "outputs": [
        {
          "output_type": "execute_result",
          "data": {
            "text/plain": [
              "<keras.regularizers.L1L2 at 0x7f62b92c5c10>"
            ]
          },
          "metadata": {},
          "execution_count": 52
        }
      ]
    },
    {
      "cell_type": "code",
      "source": [
        "dpt_model = models.Sequential()\n",
        "dpt_model.add(layers.Dense(16, activation='relu', input_shape=(10000,)))\n",
        "dpt_model.add(layers.Dropout(0.5))\n",
        "dpt_model.add(layers.Dense(16, activation='relu'))\n",
        "dpt_model.add(layers.Dropout(0.5))\n",
        "dpt_model.add(layers.Dense(1, activation='sigmoid'))\n",
        "\n",
        "dpt_model.compile(optimizer='rmsprop',\n",
        "                  loss='binary_crossentropy',\n",
        "                  metrics=['accuracy'])"
      ],
      "metadata": {
        "id": "c7_Jqhw77gfW"
      },
      "execution_count": 56,
      "outputs": []
    },
    {
      "cell_type": "code",
      "source": [
        "dpt_model_hist = dpt_model.fit(x_train, y_train,\n",
        "                               epochs=20,\n",
        "                               batch_size=512,\n",
        "                               validation_data=(x_test, y_test))"
      ],
      "metadata": {
        "colab": {
          "base_uri": "https://localhost:8080/"
        },
        "id": "DD9SbA_Q_UE3",
        "outputId": "bcb309a5-34f5-4df9-dba6-100fe427be60"
      },
      "execution_count": 57,
      "outputs": [
        {
          "output_type": "stream",
          "name": "stdout",
          "text": [
            "Epoch 1/20\n",
            "49/49 [==============================] - 7s 127ms/step - loss: 0.6015 - accuracy: 0.6754 - val_loss: 0.4787 - val_accuracy: 0.8562\n",
            "Epoch 2/20\n",
            "49/49 [==============================] - 2s 45ms/step - loss: 0.4550 - accuracy: 0.8097 - val_loss: 0.3568 - val_accuracy: 0.8765\n",
            "Epoch 3/20\n",
            "49/49 [==============================] - 2s 45ms/step - loss: 0.3669 - accuracy: 0.8611 - val_loss: 0.3048 - val_accuracy: 0.8872\n",
            "Epoch 4/20\n",
            "49/49 [==============================] - 2s 45ms/step - loss: 0.3130 - accuracy: 0.8919 - val_loss: 0.2815 - val_accuracy: 0.8884\n",
            "Epoch 5/20\n",
            "49/49 [==============================] - 2s 44ms/step - loss: 0.2795 - accuracy: 0.9068 - val_loss: 0.2816 - val_accuracy: 0.8893\n",
            "Epoch 6/20\n",
            "49/49 [==============================] - 2s 46ms/step - loss: 0.2492 - accuracy: 0.9167 - val_loss: 0.3064 - val_accuracy: 0.8843\n",
            "Epoch 7/20\n",
            "49/49 [==============================] - 2s 44ms/step - loss: 0.2238 - accuracy: 0.9280 - val_loss: 0.3012 - val_accuracy: 0.8870\n",
            "Epoch 8/20\n",
            "49/49 [==============================] - 2s 45ms/step - loss: 0.2031 - accuracy: 0.9347 - val_loss: 0.3233 - val_accuracy: 0.8861\n",
            "Epoch 9/20\n",
            "49/49 [==============================] - 2s 44ms/step - loss: 0.1872 - accuracy: 0.9397 - val_loss: 0.3416 - val_accuracy: 0.8843\n",
            "Epoch 10/20\n",
            "49/49 [==============================] - 2s 45ms/step - loss: 0.1771 - accuracy: 0.9420 - val_loss: 0.3644 - val_accuracy: 0.8827\n",
            "Epoch 11/20\n",
            "49/49 [==============================] - 3s 60ms/step - loss: 0.1604 - accuracy: 0.9473 - val_loss: 0.3686 - val_accuracy: 0.8814\n",
            "Epoch 12/20\n",
            "49/49 [==============================] - 3s 58ms/step - loss: 0.1516 - accuracy: 0.9512 - val_loss: 0.3974 - val_accuracy: 0.8778\n",
            "Epoch 13/20\n",
            "49/49 [==============================] - 2s 45ms/step - loss: 0.1437 - accuracy: 0.9525 - val_loss: 0.4386 - val_accuracy: 0.8783\n",
            "Epoch 14/20\n",
            "49/49 [==============================] - 2s 44ms/step - loss: 0.1377 - accuracy: 0.9545 - val_loss: 0.4469 - val_accuracy: 0.8770\n",
            "Epoch 15/20\n",
            "49/49 [==============================] - 2s 44ms/step - loss: 0.1325 - accuracy: 0.9547 - val_loss: 0.4577 - val_accuracy: 0.8762\n",
            "Epoch 16/20\n",
            "49/49 [==============================] - 2s 44ms/step - loss: 0.1247 - accuracy: 0.9579 - val_loss: 0.4835 - val_accuracy: 0.8772\n",
            "Epoch 17/20\n",
            "49/49 [==============================] - 2s 44ms/step - loss: 0.1207 - accuracy: 0.9590 - val_loss: 0.5219 - val_accuracy: 0.8770\n",
            "Epoch 18/20\n",
            "49/49 [==============================] - 2s 44ms/step - loss: 0.1144 - accuracy: 0.9585 - val_loss: 0.5146 - val_accuracy: 0.8753\n",
            "Epoch 19/20\n",
            "49/49 [==============================] - 2s 44ms/step - loss: 0.1139 - accuracy: 0.9598 - val_loss: 0.5336 - val_accuracy: 0.8728\n",
            "Epoch 20/20\n",
            "49/49 [==============================] - 2s 44ms/step - loss: 0.1136 - accuracy: 0.9595 - val_loss: 0.5499 - val_accuracy: 0.8712\n"
          ]
        }
      ]
    },
    {
      "cell_type": "code",
      "source": [
        "dpt_model_val_loss = dpt_model_hist.history['val_loss']\n",
        "\n",
        "plt.plot(epochs, original_val_loss, 'b+', label='Original Model')\n",
        "plt.plot(epochs, dpt_model_val_loss, 'bo', label='Dropout-regularized Model')\n",
        "plt.xlabel('Epochs')\n",
        "plt.ylabel('Validation Loss')\n",
        "plt.legend()\n",
        "\n",
        "plt.show()"
      ],
      "metadata": {
        "colab": {
          "base_uri": "https://localhost:8080/",
          "height": 279
        },
        "id": "PCVrk9AV_k-E",
        "outputId": "02838be9-2089-4a6f-dd83-c7070b62abd6"
      },
      "execution_count": 58,
      "outputs": [
        {
          "output_type": "display_data",
          "data": {
            "text/plain": [
              "<Figure size 432x288 with 1 Axes>"
            ],
            "image/png": "[encoded data removed]"
          },
          "metadata": {
            "needs_background": "light"
          }
        }
      ]
    }
  ]
}