{
  "nbformat": 4,
  "nbformat_minor": 0,
  "metadata": {
    "colab": {
      "name": "Introduction to deep learning for computer vision.ipynb",
      "provenance": []
    },
    "kernelspec": {
      "name": "python3",
      "display_name": "Python 3"
    },
    "language_info": {
      "name": "python"
    }
  },
  "cells": [
    {
      "cell_type": "code",
      "execution_count": 19,
      "metadata": {
        "id": "8UhUhBZRY7UC"
      },
      "outputs": [],
      "source": [
        "from tensorflow import keras  \n",
        "from tensorflow.keras import layers \n",
        "\n",
        "inputs = keras.Input(shape=(28, 28, 1))\n",
        "x = layers.Conv2D(filters=32, kernel_size=3, activation='relu')(inputs)\n",
        "x = layers.MaxPooling2D(pool_size=2)(x)\n",
        "x = layers.Conv2D(filters=32, kernel_size=3, activation='relu')(x)\n",
        "x = layers.MaxPooling2D(pool_size=2)(x)\n",
        "x = layers.Conv2D(filters=128, kernel_size=3, activation='relu')(x)\n",
        "x = layers.Flatten()(x)\n",
        "outputs = layers.Dense(10, activation='softmax')(x)\n",
        "model = keras.Model(inputs=inputs, outputs=outputs)"
      ]
    },
    {
      "cell_type": "code",
      "source": [
        "model.summary()"
      ],
      "metadata": {
        "colab": {
          "base_uri": "https://localhost:8080/"
        },
        "id": "Hlvr8qoDZAvR",
        "outputId": "0ebd0652-e371-43c4-8bbc-000dc6c14c97"
      },
      "execution_count": 20,
      "outputs": [
        {
          "output_type": "stream",
          "name": "stdout",
          "text": [
            "Model: \"model_3\"\n",
            "_________________________________________________________________\n",
            " Layer (type)                Output Shape              Param #   \n",
            "=================================================================\n",
            " input_4 (InputLayer)        [(None, 28, 28, 1)]       0         \n",
            "                                                                 \n",
            " conv2d_11 (Conv2D)          (None, 26, 26, 32)        320       \n",
            "                                                                 \n",
            " max_pooling2d_6 (MaxPooling  (None, 13, 13, 32)       0         \n",
            " 2D)                                                             \n",
            "                                                                 \n",
            " conv2d_12 (Conv2D)          (None, 11, 11, 32)        9248      \n",
            "                                                                 \n",
            " max_pooling2d_7 (MaxPooling  (None, 5, 5, 32)         0         \n",
            " 2D)                                                             \n",
            "                                                                 \n",
            " conv2d_13 (Conv2D)          (None, 3, 3, 128)         36992     \n",
            "                                                                 \n",
            " flatten_3 (Flatten)         (None, 1152)              0         \n",
            "                                                                 \n",
            " dense_3 (Dense)             (None, 10)                11530     \n",
            "                                                                 \n",
            "=================================================================\n",
            "Total params: 58,090\n",
            "Trainable params: 58,090\n",
            "Non-trainable params: 0\n",
            "_________________________________________________________________\n"
          ]
        }
      ]
    },
    {
      "cell_type": "code",
      "source": [
        "from tensorflow.keras.datasets import mnist\n",
        "\n",
        "(train_images, train_labels), (test_images, test_labels) = mnist.load_data()\n",
        "train_images = train_images.reshape((60000, 28, 28, 1))\n",
        "train_images = train_images.astype('float32') / 255\n",
        "test_images = test_images.reshape((10000, 28, 28, 1))\n",
        "test_images = test_images.astype('float32') / 255\n",
        "model.compile(optimizer='rmsprop',\n",
        "              loss='sparse_categorical_crossentropy',\n",
        "              metrics=['accuracy'])\n",
        "model.fit(train_images, train_labels, epochs=5, batch_size=64)"
      ],
      "metadata": {
        "colab": {
          "base_uri": "https://localhost:8080/"
        },
        "id": "GX50FgwtZGYw",
        "outputId": "f3f76e6b-f61f-4624-8be4-372e232c863f"
      },
      "execution_count": 21,
      "outputs": [
        {
          "output_type": "stream",
          "name": "stdout",
          "text": [
            "Epoch 1/5\n",
            "938/938 [==============================] - 42s 44ms/step - loss: 0.1756 - accuracy: 0.9473\n",
            "Epoch 2/5\n",
            "938/938 [==============================] - 41s 44ms/step - loss: 0.0472 - accuracy: 0.9854\n",
            "Epoch 3/5\n",
            "938/938 [==============================] - 41s 43ms/step - loss: 0.0333 - accuracy: 0.9894\n",
            "Epoch 4/5\n",
            "938/938 [==============================] - 40s 43ms/step - loss: 0.0262 - accuracy: 0.9920\n",
            "Epoch 5/5\n",
            "938/938 [==============================] - 41s 44ms/step - loss: 0.0215 - accuracy: 0.9934\n"
          ]
        },
        {
          "output_type": "execute_result",
          "data": {
            "text/plain": [
              "<keras.callbacks.History at 0x7fc701616410>"
            ]
          },
          "metadata": {},
          "execution_count": 21
        }
      ]
    },
    {
      "cell_type": "code",
      "source": [
        "#Evaluating the convnet\n",
        "\n",
        "test_loss, test_acc = model.evaluate(test_images, test_labels)\n",
        "print(f'Test accuracy: {test_acc:.3f}')"
      ],
      "metadata": {
        "colab": {
          "base_uri": "https://localhost:8080/"
        },
        "id": "lbsdl6iAZIq6",
        "outputId": "3750e523-3fe7-4812-bba5-9785446aa7cd"
      },
      "execution_count": 22,
      "outputs": [
        {
          "output_type": "stream",
          "name": "stdout",
          "text": [
            "313/313 [==============================] - 3s 8ms/step - loss: 0.0229 - accuracy: 0.9924\n",
            "Test accuracy: 0.992\n"
          ]
        }
      ]
    },
    {
      "cell_type": "code",
      "source": [
        "inputs = keras.Input(shape=(28, 28, 1))\n",
        "x = layers.Conv2D(filters=32, kernel_size=3, activation='relu')(inputs)\n",
        "x = layers.Conv2D(filters=64, kernel_size=3, activation='relu')(x)\n",
        "x = layers.Conv2D(filters=128, kernel_size=3, activation='relu')(x)\n",
        "x = layers.Flatten()(x)\n",
        "outputs = layers.Dense(10, activation=\"softmax\")(x)\n",
        "model_no_max_pool = keras.Model(inputs=inputs, outputs=outputs)"
      ],
      "metadata": {
        "id": "yvZGlItGZKw7"
      },
      "execution_count": 23,
      "outputs": []
    },
    {
      "cell_type": "code",
      "source": [
        "model_no_max_pool.summary()"
      ],
      "metadata": {
        "colab": {
          "base_uri": "https://localhost:8080/"
        },
        "id": "RGCStQGTZL8z",
        "outputId": "fa5cb2fa-a8c3-4932-8a14-c045e63f7a3d"
      },
      "execution_count": 24,
      "outputs": [
        {
          "output_type": "stream",
          "name": "stdout",
          "text": [
            "Model: \"model_4\"\n",
            "_________________________________________________________________\n",
            " Layer (type)                Output Shape              Param #   \n",
            "=================================================================\n",
            " input_5 (InputLayer)        [(None, 28, 28, 1)]       0         \n",
            "                                                                 \n",
            " conv2d_14 (Conv2D)          (None, 26, 26, 32)        320       \n",
            "                                                                 \n",
            " conv2d_15 (Conv2D)          (None, 24, 24, 64)        18496     \n",
            "                                                                 \n",
            " conv2d_16 (Conv2D)          (None, 22, 22, 128)       73856     \n",
            "                                                                 \n",
            " flatten_4 (Flatten)         (None, 61952)             0         \n",
            "                                                                 \n",
            " dense_4 (Dense)             (None, 10)                619530    \n",
            "                                                                 \n",
            "=================================================================\n",
            "Total params: 712,202\n",
            "Trainable params: 712,202\n",
            "Non-trainable params: 0\n",
            "_________________________________________________________________\n"
          ]
        }
      ]
    },
    {
      "cell_type": "code",
      "source": [
        "import tensorflow as tf\n",
        "from tensorflow import keras\n",
        "from tensorflow.keras import layers\n",
        "from tensorflow.keras import utils\n",
        "\n",
        "print(tf.__version__)\n",
        "\n",
        "def make_subset(subset_name, start_index, end_index):\n",
        "    for category in (\"cat\", \"dog\"):\n",
        "        dir = new_base_dir / subset_name / category\n",
        "        src_dir = original_dir / category\n",
        "        print(dir)\n",
        "        os.makedirs(dir)\n",
        "        fnames = [f\"{i}.jpg\" for i in range(start_index, end_index)]\n",
        "        for fname in fnames:\n",
        "            shutil.copyfile(src=src_dir / fname, dst=dir / fname)"
      ],
      "metadata": {
        "colab": {
          "base_uri": "https://localhost:8080/"
        },
        "id": "hkgWjCjEZNCs",
        "outputId": "e539aa0c-cc10-4564-e92b-3fac058f0f67"
      },
      "execution_count": 25,
      "outputs": [
        {
          "output_type": "stream",
          "name": "stdout",
          "text": [
            "2.8.2\n"
          ]
        }
      ]
    },
    {
      "cell_type": "code",
      "source": [
        "import os, shutil, pathlib\n",
        "\n",
        "original_dir = pathlib.Path(\"/content/drive/MyDrive/All-datasets/cats_and_dogs_small/train\")\n",
        "new_base_dir = pathlib.Path(\"/content/drive/MyDrive/All-datasets/cats_and_dogs_small\")\n",
        "\n",
        "print(original_dir, new_base_dir)\n",
        "\n",
        "if not os.path.exists(new_base_dir):\n",
        "    make_subset(\"train\", start_index=0, end_index=1000)\n",
        "    make_subset(\"validation\", start_index=1000, end_index=1500)\n",
        "    make_subset(\"test\", start_index=1500, end_index=2500)\n",
        "else:\n",
        "    print('{0} already exists, no need to copy the data again!'.format(new_base_dir))"
      ],
      "metadata": {
        "colab": {
          "base_uri": "https://localhost:8080/"
        },
        "id": "S06DGtodZOYk",
        "outputId": "9621a539-4b43-43e7-d7b3-eec3dad66f8e"
      },
      "execution_count": 26,
      "outputs": [
        {
          "output_type": "stream",
          "name": "stdout",
          "text": [
            "/content/drive/MyDrive/All-datasets/cats_and_dogs_small/train /content/drive/MyDrive/All-datasets/cats_and_dogs_small\n",
            "/content/drive/MyDrive/All-datasets/cats_and_dogs_small already exists, no need to copy the data again!\n"
          ]
        }
      ]
    },
    {
      "cell_type": "code",
      "source": [
        "from tensorflow import keras  \n",
        "from tensorflow.keras import layers  \n",
        "\n",
        "\n",
        "inputs = keras.Input(shape=(180, 180, 3))\n",
        "x = layers.Rescaling(1./255)(inputs)\n",
        "x = layers.Conv2D(filters=32, kernel_size=3, activation='relu')(x)\n",
        "x = layers.MaxPooling2D(pool_size=2)(x)\n",
        "x = layers.Conv2D(filters=64, kernel_size=3, activation='relu')(x)\n",
        "x = layers.MaxPooling2D(pool_size=2)(x)\n",
        "x = layers.Conv2D(filters=128, kernel_size=3, activation='relu')(x)\n",
        "x = layers.MaxPooling2D(pool_size=2)(x)\n",
        "x = layers.Conv2D(filters=256, kernel_size=3, activation='relu')(x)\n",
        "x = layers.MaxPooling2D(pool_size=2)(x)\n",
        "x = layers.Conv2D(filters=256, kernel_size=3, activation='relu')(x)\n",
        "x = layers.Flatten()(x)\n",
        "outputs = layers.Dense(1, activation='sigmoid')(x)\n",
        "model = keras.Model(inputs=inputs, outputs=outputs)"
      ],
      "metadata": {
        "id": "9_PnWXgjZQJS"
      },
      "execution_count": 27,
      "outputs": []
    },
    {
      "cell_type": "code",
      "source": [
        "model.summary()"
      ],
      "metadata": {
        "colab": {
          "base_uri": "https://localhost:8080/"
        },
        "id": "PewRIATcZTcc",
        "outputId": "665e7236-13fa-4a98-e9f8-eed33f0b4de4"
      },
      "execution_count": 28,
      "outputs": [
        {
          "output_type": "stream",
          "name": "stdout",
          "text": [
            "Model: \"model_5\"\n",
            "_________________________________________________________________\n",
            " Layer (type)                Output Shape              Param #   \n",
            "=================================================================\n",
            " input_6 (InputLayer)        [(None, 180, 180, 3)]     0         \n",
            "                                                                 \n",
            " rescaling_1 (Rescaling)     (None, 180, 180, 3)       0         \n",
            "                                                                 \n",
            " conv2d_17 (Conv2D)          (None, 178, 178, 32)      896       \n",
            "                                                                 \n",
            " max_pooling2d_8 (MaxPooling  (None, 89, 89, 32)       0         \n",
            " 2D)                                                             \n",
            "                                                                 \n",
            " conv2d_18 (Conv2D)          (None, 87, 87, 64)        18496     \n",
            "                                                                 \n",
            " max_pooling2d_9 (MaxPooling  (None, 43, 43, 64)       0         \n",
            " 2D)                                                             \n",
            "                                                                 \n",
            " conv2d_19 (Conv2D)          (None, 41, 41, 128)       73856     \n",
            "                                                                 \n",
            " max_pooling2d_10 (MaxPoolin  (None, 20, 20, 128)      0         \n",
            " g2D)                                                            \n",
            "                                                                 \n",
            " conv2d_20 (Conv2D)          (None, 18, 18, 256)       295168    \n",
            "                                                                 \n",
            " max_pooling2d_11 (MaxPoolin  (None, 9, 9, 256)        0         \n",
            " g2D)                                                            \n",
            "                                                                 \n",
            " conv2d_21 (Conv2D)          (None, 7, 7, 256)         590080    \n",
            "                                                                 \n",
            " flatten_5 (Flatten)         (None, 12544)             0         \n",
            "                                                                 \n",
            " dense_5 (Dense)             (None, 1)                 12545     \n",
            "                                                                 \n",
            "=================================================================\n",
            "Total params: 991,041\n",
            "Trainable params: 991,041\n",
            "Non-trainable params: 0\n",
            "_________________________________________________________________\n"
          ]
        }
      ]
    },
    {
      "cell_type": "code",
      "source": [
        "model.compile(loss='binary_crossentropy',\n",
        "              optimizer='rmsprop',\n",
        "              metrics=['accuracy'])"
      ],
      "metadata": {
        "id": "cwpM_Ao9ZW0C"
      },
      "execution_count": 29,
      "outputs": []
    },
    {
      "cell_type": "code",
      "source": [
        "#Data preprocessing\n",
        "#Using image_dataset_from_directory to read images\n",
        "\n",
        "from tensorflow.keras.utils import image_dataset_from_directory\n",
        "\n",
        "train_dataset = image_dataset_from_directory(\n",
        "    new_base_dir / \"train\",\n",
        "    image_size=(180, 180),\n",
        "    batch_size=32)\n",
        "validation_dataset = image_dataset_from_directory(\n",
        "    new_base_dir / \"validation\",\n",
        "    image_size=(180, 180),\n",
        "    batch_size=32)\n",
        "test_dataset = image_dataset_from_directory(\n",
        "    new_base_dir / \"test\",\n",
        "    image_size=(180, 180),\n",
        "    batch_size=32)"
      ],
      "metadata": {
        "colab": {
          "base_uri": "https://localhost:8080/"
        },
        "id": "nud7I3ywZYcj",
        "outputId": "dc9cccb4-acdd-4d32-80e7-c4b51df6d4e1"
      },
      "execution_count": 30,
      "outputs": [
        {
          "output_type": "stream",
          "name": "stdout",
          "text": [
            "Found 198 files belonging to 3 classes.\n",
            "Found 100 files belonging to 2 classes.\n",
            "Found 6 files belonging to 2 classes.\n"
          ]
        }
      ]
    },
    {
      "cell_type": "code",
      "source": [
        "import numpy as np\n",
        "import tensorflow as tf \n",
        "random_numbers = np.random.normal(size=(1000, 16))\n",
        "dataset = tf.data.Dataset.from_tensor_slices(random_numbers)"
      ],
      "metadata": {
        "id": "w-q41al6ZZts"
      },
      "execution_count": 31,
      "outputs": []
    },
    {
      "cell_type": "code",
      "source": [
        "for i, element in enumerate(dataset):\n",
        "  print(element.shape)\n",
        "  if i >= 2:\n",
        "    break"
      ],
      "metadata": {
        "colab": {
          "base_uri": "https://localhost:8080/"
        },
        "id": "779jiQGHZbW1",
        "outputId": "fe24c704-b364-48c6-e0c6-8ed31439c551"
      },
      "execution_count": 32,
      "outputs": [
        {
          "output_type": "stream",
          "name": "stdout",
          "text": [
            "(16,)\n",
            "(16,)\n",
            "(16,)\n"
          ]
        }
      ]
    },
    {
      "cell_type": "code",
      "source": [
        "batched_dataset = dataset.batch(32)\n",
        "for i, element in enumerate(batched_dataset):\n",
        "  print(element.shape)\n",
        "  if i >= 2:\n",
        "    break"
      ],
      "metadata": {
        "colab": {
          "base_uri": "https://localhost:8080/"
        },
        "id": "wNFJDog7ZckM",
        "outputId": "6517e35e-0388-4599-c10d-d98e91c007c9"
      },
      "execution_count": 33,
      "outputs": [
        {
          "output_type": "stream",
          "name": "stdout",
          "text": [
            "(32, 16)\n",
            "(32, 16)\n",
            "(32, 16)\n"
          ]
        }
      ]
    },
    {
      "cell_type": "code",
      "source": [
        "reshaped_dataset = dataset.map(lambda x: tf.reshape(x, (4, 4)))\n",
        "for i, element in enumerate(reshaped_dataset):\n",
        "  print(element.shape)\n",
        "  if i >= 2:\n",
        "    break"
      ],
      "metadata": {
        "colab": {
          "base_uri": "https://localhost:8080/"
        },
        "id": "7P7zbsCdZeq8",
        "outputId": "e282486c-0f41-4b55-edda-15cf34860954"
      },
      "execution_count": 34,
      "outputs": [
        {
          "output_type": "stream",
          "name": "stdout",
          "text": [
            "(4, 4)\n",
            "(4, 4)\n",
            "(4, 4)\n"
          ]
        }
      ]
    },
    {
      "cell_type": "code",
      "source": [
        "#Displaying the shapes of the data and labels yielded by the Dataset\n",
        "for data_batch, labels_batch in train_dataset:\n",
        "  print('data batch shape: ', data_batch.shape)\n",
        "  print('labels batch shape: ', labels_batch.shape)\n",
        "  break"
      ],
      "metadata": {
        "colab": {
          "base_uri": "https://localhost:8080/"
        },
        "id": "H1Wqrj_sZgUI",
        "outputId": "c18ad527-1832-4457-82a3-4540dc1d9d9d"
      },
      "execution_count": 35,
      "outputs": [
        {
          "output_type": "stream",
          "name": "stdout",
          "text": [
            "data batch shape:  (32, 180, 180, 3)\n",
            "labels batch shape:  (32,)\n"
          ]
        }
      ]
    },
    {
      "cell_type": "code",
      "source": [
        "#Fitting the model using a Dataset\n",
        "\n",
        "callbacks = [\n",
        "             keras.callbacks.ModelCheckpoint(\n",
        "                 filepath='convnet_from_scratch.keras',\n",
        "                 save_best_only=True,\n",
        "                 monitor='val_loss')\n",
        "             ]\n",
        "\n",
        "\n",
        "history = model.fit(\n",
        "    train_dataset,\n",
        "    epochs=30,\n",
        "    validation_data=validation_dataset,\n",
        "    callbacks=callbacks)"
      ],
      "metadata": {
        "colab": {
          "base_uri": "https://localhost:8080/"
        },
        "id": "m-Wkx_rucTWo",
        "outputId": "52cba4ec-2401-414f-aa75-feb77601f790"
      },
      "execution_count": 36,
      "outputs": [
        {
          "output_type": "stream",
          "name": "stdout",
          "text": [
            "Epoch 1/30\n",
            "7/7 [==============================] - 17s 2s/step - loss: 1.0766 - accuracy: 0.5000 - val_loss: 0.6928 - val_accuracy: 0.5000\n",
            "Epoch 2/30\n",
            "7/7 [==============================] - 15s 2s/step - loss: 0.6932 - accuracy: 0.5000 - val_loss: 0.6931 - val_accuracy: 0.5000\n",
            "Epoch 3/30\n",
            "7/7 [==============================] - 15s 2s/step - loss: 0.6944 - accuracy: 0.5152 - val_loss: 0.6974 - val_accuracy: 0.5000\n",
            "Epoch 4/30\n",
            "7/7 [==============================] - 15s 2s/step - loss: 0.6909 - accuracy: 0.5758 - val_loss: 0.6940 - val_accuracy: 0.5200\n",
            "Epoch 5/30\n",
            "7/7 [==============================] - 16s 2s/step - loss: 0.7987 - accuracy: 0.6061 - val_loss: 0.6925 - val_accuracy: 0.5400\n",
            "Epoch 6/30\n",
            "7/7 [==============================] - 15s 2s/step - loss: 0.6915 - accuracy: 0.5505 - val_loss: 0.6922 - val_accuracy: 0.5000\n",
            "Epoch 7/30\n",
            "7/7 [==============================] - 15s 2s/step - loss: 0.6860 - accuracy: 0.5202 - val_loss: 1.6714 - val_accuracy: 0.5000\n",
            "Epoch 8/30\n",
            "7/7 [==============================] - 15s 2s/step - loss: 0.9394 - accuracy: 0.5051 - val_loss: 0.6928 - val_accuracy: 0.4900\n",
            "Epoch 9/30\n",
            "7/7 [==============================] - 15s 2s/step - loss: 0.6814 - accuracy: 0.5707 - val_loss: 0.8541 - val_accuracy: 0.5000\n",
            "Epoch 10/30\n",
            "7/7 [==============================] - 15s 2s/step - loss: 0.7050 - accuracy: 0.5808 - val_loss: 0.6954 - val_accuracy: 0.4700\n",
            "Epoch 11/30\n",
            "7/7 [==============================] - 15s 2s/step - loss: 0.6690 - accuracy: 0.6818 - val_loss: 0.7347 - val_accuracy: 0.5000\n",
            "Epoch 12/30\n",
            "7/7 [==============================] - 15s 2s/step - loss: 0.8860 - accuracy: 0.6313 - val_loss: 0.7037 - val_accuracy: 0.5000\n",
            "Epoch 13/30\n",
            "7/7 [==============================] - 15s 2s/step - loss: 0.6597 - accuracy: 0.6313 - val_loss: 0.6940 - val_accuracy: 0.4700\n",
            "Epoch 14/30\n",
            "7/7 [==============================] - 15s 2s/step - loss: 0.6345 - accuracy: 0.7121 - val_loss: 0.6937 - val_accuracy: 0.5600\n",
            "Epoch 15/30\n",
            "7/7 [==============================] - 15s 2s/step - loss: 0.6526 - accuracy: 0.6263 - val_loss: 0.7269 - val_accuracy: 0.5100\n",
            "Epoch 16/30\n",
            "7/7 [==============================] - 15s 2s/step - loss: 0.5801 - accuracy: 0.6970 - val_loss: 1.0587 - val_accuracy: 0.5000\n",
            "Epoch 17/30\n",
            "7/7 [==============================] - 15s 2s/step - loss: 0.5268 - accuracy: 0.7525 - val_loss: 1.2536 - val_accuracy: 0.4800\n",
            "Epoch 18/30\n",
            "7/7 [==============================] - 15s 2s/step - loss: 0.5772 - accuracy: 0.7778 - val_loss: 0.8411 - val_accuracy: 0.5200\n",
            "Epoch 19/30\n",
            "7/7 [==============================] - 15s 2s/step - loss: 0.4540 - accuracy: 0.7778 - val_loss: 0.9819 - val_accuracy: 0.4900\n",
            "Epoch 20/30\n",
            "7/7 [==============================] - 15s 2s/step - loss: 0.4142 - accuracy: 0.7828 - val_loss: 0.9251 - val_accuracy: 0.5300\n",
            "Epoch 21/30\n",
            "7/7 [==============================] - 17s 2s/step - loss: 0.2863 - accuracy: 0.8636 - val_loss: 0.9653 - val_accuracy: 0.4800\n",
            "Epoch 22/30\n",
            "7/7 [==============================] - 15s 2s/step - loss: 0.2803 - accuracy: 0.8384 - val_loss: 1.6315 - val_accuracy: 0.5400\n",
            "Epoch 23/30\n",
            "7/7 [==============================] - 15s 2s/step - loss: 0.3546 - accuracy: 0.8535 - val_loss: 1.0744 - val_accuracy: 0.4900\n",
            "Epoch 24/30\n",
            "7/7 [==============================] - 15s 2s/step - loss: 0.1876 - accuracy: 0.9192 - val_loss: 1.3115 - val_accuracy: 0.5300\n",
            "Epoch 25/30\n",
            "7/7 [==============================] - 15s 2s/step - loss: 0.1782 - accuracy: 0.9040 - val_loss: 2.4937 - val_accuracy: 0.5000\n",
            "Epoch 26/30\n",
            "7/7 [==============================] - 15s 2s/step - loss: 0.3038 - accuracy: 0.8990 - val_loss: 1.2363 - val_accuracy: 0.5800\n",
            "Epoch 27/30\n",
            "7/7 [==============================] - 15s 2s/step - loss: 0.0786 - accuracy: 0.9798 - val_loss: 2.2156 - val_accuracy: 0.5600\n",
            "Epoch 28/30\n",
            "7/7 [==============================] - 15s 2s/step - loss: 0.2124 - accuracy: 0.9242 - val_loss: 2.4676 - val_accuracy: 0.5100\n",
            "Epoch 29/30\n",
            "7/7 [==============================] - 15s 2s/step - loss: 0.1626 - accuracy: 0.9545 - val_loss: 2.1949 - val_accuracy: 0.5100\n",
            "Epoch 30/30\n",
            "7/7 [==============================] - 15s 2s/step - loss: 0.0547 - accuracy: 0.9747 - val_loss: 2.1245 - val_accuracy: 0.6000\n"
          ]
        }
      ]
    },
    {
      "cell_type": "code",
      "source": [
        "import matplotlib.pyplot as plt\n",
        "accuracy = history.history[\"accuracy\"]\n",
        "val_accuracy = history.history[\"val_accuracy\"]\n",
        "loss = history.history[\"loss\"]\n",
        "val_loss = history.history[\"val_loss\"]\n",
        "epochs = range(1, len(accuracy) + 1)\n",
        "plt.plot(epochs, accuracy, \"bo\", label=\"Training accuracy\")\n",
        "plt.plot(epochs, val_accuracy, \"b\", label=\"Validation accuracy\")\n",
        "plt.title(\"Training and validation accuracy\")\n",
        "plt.legend()\n",
        "plt.figure()\n",
        "plt.plot(epochs, loss, \"bo\", label=\"Training loss\")\n",
        "plt.plot(epochs, val_loss, \"b\", label=\"Validation loss\")\n",
        "plt.title(\"Training and validation loss\")\n",
        "plt.legend()\n",
        "plt.show()"
      ],
      "metadata": {
        "colab": {
          "base_uri": "https://localhost:8080/",
          "height": 545
        },
        "id": "J4pTbOEPZjeR",
        "outputId": "7c94ca4f-d653-4dce-a72a-7c5c9d4ea724"
      },
      "execution_count": 37,
      "outputs": [
        {
          "output_type": "display_data",
          "data": {
            "text/plain": [
              "<Figure size 432x288 with 1 Axes>"
            ],
            "image/png": "[encoded data removed]"
          },
          "metadata": {
            "needs_background": "light"
          }
        },
        {
          "output_type": "display_data",
          "data": {
            "text/plain": [
              "<Figure size 432x288 with 1 Axes>"
            ],
            "image/png": "[encoded data removed]"
          },
          "metadata": {
            "needs_background": "light"
          }
        }
      ]
    },
    {
      "cell_type": "code",
      "source": [
        "test_model = keras.models.load_model(\"convnet_from_scratch.keras\")\n",
        "test_loss, test_acc = test_model.evaluate(test_dataset)\n",
        "print(f\"Test accuracy: {test_acc:.3f}\")"
      ],
      "metadata": {
        "colab": {
          "base_uri": "https://localhost:8080/"
        },
        "id": "5OyijQx9Zk8s",
        "outputId": "3991fd99-166e-4309-dbbd-ff176c64af85"
      },
      "execution_count": 38,
      "outputs": [
        {
          "output_type": "stream",
          "name": "stdout",
          "text": [
            "1/1 [==============================] - 1s 1s/step - loss: 0.7029 - accuracy: 0.3333\n",
            "Test accuracy: 0.333\n"
          ]
        }
      ]
    },
    {
      "cell_type": "code",
      "source": [
        "conv_base = keras.applications.vgg16.VGG16(\n",
        "    weights=\"imagenet\",\n",
        "    include_top=False,\n",
        "    input_shape=(180, 180, 3))"
      ],
      "metadata": {
        "colab": {
          "base_uri": "https://localhost:8080/"
        },
        "id": "x6oaOcCoZnbo",
        "outputId": "a1a6703d-ab78-4105-c68a-54ca43aeb5f5"
      },
      "execution_count": 39,
      "outputs": [
        {
          "output_type": "stream",
          "name": "stdout",
          "text": [
            "Downloading data from https://storage.googleapis.com/tensorflow/keras-applications/vgg16/vgg16_weights_tf_dim_ordering_tf_kernels_notop.h5\n",
            "58892288/58889256 [==============================] - 0s 0us/step\n",
            "58900480/58889256 [==============================] - 0s 0us/step\n"
          ]
        }
      ]
    },
    {
      "cell_type": "code",
      "source": [
        "conv_base.summary()"
      ],
      "metadata": {
        "colab": {
          "base_uri": "https://localhost:8080/"
        },
        "id": "8FtL9siiZo7U",
        "outputId": "be0f7287-43c1-42a4-c5c3-cbf2ed6baacc"
      },
      "execution_count": 40,
      "outputs": [
        {
          "output_type": "stream",
          "name": "stdout",
          "text": [
            "Model: \"vgg16\"\n",
            "_________________________________________________________________\n",
            " Layer (type)                Output Shape              Param #   \n",
            "=================================================================\n",
            " input_7 (InputLayer)        [(None, 180, 180, 3)]     0         \n",
            "                                                                 \n",
            " block1_conv1 (Conv2D)       (None, 180, 180, 64)      1792      \n",
            "                                                                 \n",
            " block1_conv2 (Conv2D)       (None, 180, 180, 64)      36928     \n",
            "                                                                 \n",
            " block1_pool (MaxPooling2D)  (None, 90, 90, 64)        0         \n",
            "                                                                 \n",
            " block2_conv1 (Conv2D)       (None, 90, 90, 128)       73856     \n",
            "                                                                 \n",
            " block2_conv2 (Conv2D)       (None, 90, 90, 128)       147584    \n",
            "                                                                 \n",
            " block2_pool (MaxPooling2D)  (None, 45, 45, 128)       0         \n",
            "                                                                 \n",
            " block3_conv1 (Conv2D)       (None, 45, 45, 256)       295168    \n",
            "                                                                 \n",
            " block3_conv2 (Conv2D)       (None, 45, 45, 256)       590080    \n",
            "                                                                 \n",
            " block3_conv3 (Conv2D)       (None, 45, 45, 256)       590080    \n",
            "                                                                 \n",
            " block3_pool (MaxPooling2D)  (None, 22, 22, 256)       0         \n",
            "                                                                 \n",
            " block4_conv1 (Conv2D)       (None, 22, 22, 512)       1180160   \n",
            "                                                                 \n",
            " block4_conv2 (Conv2D)       (None, 22, 22, 512)       2359808   \n",
            "                                                                 \n",
            " block4_conv3 (Conv2D)       (None, 22, 22, 512)       2359808   \n",
            "                                                                 \n",
            " block4_pool (MaxPooling2D)  (None, 11, 11, 512)       0         \n",
            "                                                                 \n",
            " block5_conv1 (Conv2D)       (None, 11, 11, 512)       2359808   \n",
            "                                                                 \n",
            " block5_conv2 (Conv2D)       (None, 11, 11, 512)       2359808   \n",
            "                                                                 \n",
            " block5_conv3 (Conv2D)       (None, 11, 11, 512)       2359808   \n",
            "                                                                 \n",
            " block5_pool (MaxPooling2D)  (None, 5, 5, 512)         0         \n",
            "                                                                 \n",
            "=================================================================\n",
            "Total params: 14,714,688\n",
            "Trainable params: 14,714,688\n",
            "Non-trainable params: 0\n",
            "_________________________________________________________________\n"
          ]
        }
      ]
    },
    {
      "cell_type": "code",
      "source": [
        "#Extracting the VGG16 features and corresponding labels\n",
        "\n",
        "import numpy as np\n",
        "\n",
        "def get_features_and_labels(dataset):\n",
        "  all_features = []\n",
        "  all_labels = []\n",
        "  for images, labels in dataset:\n",
        "    preprocessed_images = keras.applications.vgg16.preprocess_input(images)\n",
        "    features = conv_base.predict(preprocessed_images)\n",
        "    all_features.append(features)\n",
        "    all_labels.append(labels)\n",
        "  return np.concatenate(all_features), np.concatenate(all_labels)\n",
        "\n",
        "train_features, train_labels = get_features_and_labels(train_dataset)\n",
        "val_features, val_labels = get_features_and_labels(validation_dataset)\n",
        "test_features, test_labels = get_features_and_labels(test_dataset)"
      ],
      "metadata": {
        "id": "HosNjym3ZqY9"
      },
      "execution_count": 41,
      "outputs": []
    },
    {
      "cell_type": "code",
      "source": [
        "train_features.shape"
      ],
      "metadata": {
        "colab": {
          "base_uri": "https://localhost:8080/"
        },
        "id": "_h2JKuGmZsKM",
        "outputId": "512d8c6c-9647-4cb8-e039-45e969aa27bb"
      },
      "execution_count": 42,
      "outputs": [
        {
          "output_type": "execute_result",
          "data": {
            "text/plain": [
              "(198, 5, 5, 512)"
            ]
          },
          "metadata": {},
          "execution_count": 42
        }
      ]
    },
    {
      "cell_type": "code",
      "source": [
        "#Defining and training the densely connected classifier\n",
        "\n",
        "inputs = keras.Input(shape=(5, 5, 512))\n",
        "x = layers.Flatten()(inputs)\n",
        "x = layers.Dense(256)(x)\n",
        "x = layers.Dropout(0.5)(x)\n",
        "outputs = layers.Dense(1, activation='sigmoid')(x)\n",
        "model = keras.Model(inputs, outputs)\n",
        "model.compile(loss='binary_crossentropy',\n",
        "              optimizer='rmsprop',\n",
        "              metrics=['accuracy'])\n",
        "\n",
        "callbacks = [\n",
        "             keras.callbacks.ModelCheckpoint(\n",
        "                 filepath='feature_extraction.keras',\n",
        "                 save_best_only=True,\n",
        "                 monitor='val_loss')\n",
        "]\n",
        "\n",
        "history = model.fit(\n",
        "    train_features, train_labels,\n",
        "    epochs=20,\n",
        "    validation_data=(val_features, val_labels),\n",
        "    callbacks=callbacks)"
      ],
      "metadata": {
        "colab": {
          "base_uri": "https://localhost:8080/"
        },
        "id": "fVg6Hj8UZtmE",
        "outputId": "47de110e-d2a8-427f-ec77-282076c40276"
      },
      "execution_count": 43,
      "outputs": [
        {
          "output_type": "stream",
          "name": "stdout",
          "text": [
            "Epoch 1/20\n",
            "7/7 [==============================] - 1s 69ms/step - loss: 154.3351 - accuracy: 0.6869 - val_loss: 11.0841 - val_accuracy: 0.9400\n",
            "Epoch 2/20\n",
            "7/7 [==============================] - 0s 43ms/step - loss: 2.5893 - accuracy: 0.9747 - val_loss: 11.3817 - val_accuracy: 0.9400\n",
            "Epoch 3/20\n",
            "7/7 [==============================] - 0s 39ms/step - loss: 1.1296 - accuracy: 0.9798 - val_loss: 11.8083 - val_accuracy: 0.9400\n",
            "Epoch 4/20\n",
            "7/7 [==============================] - 0s 53ms/step - loss: 0.9020 - accuracy: 0.9798 - val_loss: 8.6214 - val_accuracy: 0.9500\n",
            "Epoch 5/20\n",
            "7/7 [==============================] - 0s 41ms/step - loss: 0.8331 - accuracy: 0.9899 - val_loss: 17.6024 - val_accuracy: 0.9100\n",
            "Epoch 6/20\n",
            "7/7 [==============================] - 0s 40ms/step - loss: 0.0000e+00 - accuracy: 1.0000 - val_loss: 17.6024 - val_accuracy: 0.9100\n",
            "Epoch 7/20\n",
            "7/7 [==============================] - 0s 41ms/step - loss: 2.2127e-17 - accuracy: 1.0000 - val_loss: 17.6024 - val_accuracy: 0.9100\n",
            "Epoch 8/20\n",
            "7/7 [==============================] - 0s 40ms/step - loss: 1.7272e-26 - accuracy: 1.0000 - val_loss: 17.6024 - val_accuracy: 0.9100\n",
            "Epoch 9/20\n",
            "7/7 [==============================] - 0s 41ms/step - loss: 1.2367e-34 - accuracy: 1.0000 - val_loss: 17.6024 - val_accuracy: 0.9100\n",
            "Epoch 10/20\n",
            "7/7 [==============================] - 0s 41ms/step - loss: 4.3781e-26 - accuracy: 1.0000 - val_loss: 17.6024 - val_accuracy: 0.9100\n",
            "Epoch 11/20\n",
            "7/7 [==============================] - 0s 40ms/step - loss: 0.0000e+00 - accuracy: 1.0000 - val_loss: 17.6024 - val_accuracy: 0.9100\n",
            "Epoch 12/20\n",
            "7/7 [==============================] - 0s 41ms/step - loss: 4.2227e-34 - accuracy: 1.0000 - val_loss: 17.6024 - val_accuracy: 0.9100\n",
            "Epoch 13/20\n",
            "7/7 [==============================] - 0s 41ms/step - loss: 5.4385e-28 - accuracy: 1.0000 - val_loss: 17.6024 - val_accuracy: 0.9100\n",
            "Epoch 14/20\n",
            "7/7 [==============================] - 0s 41ms/step - loss: 2.9939e-35 - accuracy: 1.0000 - val_loss: 17.6024 - val_accuracy: 0.9100\n",
            "Epoch 15/20\n",
            "7/7 [==============================] - 0s 41ms/step - loss: 1.7695e-20 - accuracy: 1.0000 - val_loss: 17.6024 - val_accuracy: 0.9100\n",
            "Epoch 16/20\n",
            "7/7 [==============================] - 0s 48ms/step - loss: 1.2955e-26 - accuracy: 1.0000 - val_loss: 17.6024 - val_accuracy: 0.9100\n",
            "Epoch 17/20\n",
            "7/7 [==============================] - 0s 40ms/step - loss: 0.0000e+00 - accuracy: 1.0000 - val_loss: 17.6024 - val_accuracy: 0.9100\n",
            "Epoch 18/20\n",
            "7/7 [==============================] - 0s 41ms/step - loss: 1.6284e-16 - accuracy: 1.0000 - val_loss: 17.6024 - val_accuracy: 0.9100\n",
            "Epoch 19/20\n",
            "7/7 [==============================] - 0s 43ms/step - loss: 1.2130e-24 - accuracy: 1.0000 - val_loss: 17.6024 - val_accuracy: 0.9100\n",
            "Epoch 20/20\n",
            "7/7 [==============================] - 0s 47ms/step - loss: 0.0000e+00 - accuracy: 1.0000 - val_loss: 17.6024 - val_accuracy: 0.9100\n"
          ]
        }
      ]
    },
    {
      "cell_type": "code",
      "source": [
        "import matplotlib.pyplot as plt\n",
        "acc = history.history['accuracy']\n",
        "val_acc = history.history['val_accuracy']\n",
        "loss = history.history['loss']\n",
        "val_loss = history.history['val_loss']\n",
        "\n",
        "epochs = range(1, len(acc) + 1)\n",
        "\n",
        "plt.plot(epochs, acc, 'bo', label='Training accuracy')\n",
        "plt.plot(epochs, val_acc, 'b', label='Validation accuracy')\n",
        "plt.title('Training and Validation accuracy')\n",
        "plt.legend()\n",
        "plt.figure()\n",
        "\n",
        "plt.plot(epochs, loss, 'bo', label='Training loss')\n",
        "plt.plot(epochs, val_loss, 'b', label='Validation loss')\n",
        "plt.title('Training and Validayion loss')\n",
        "plt.legend()\n",
        "\n",
        "plt.show()"
      ],
      "metadata": {
        "colab": {
          "base_uri": "https://localhost:8080/",
          "height": 545
        },
        "id": "naK_VP4bZusm",
        "outputId": "0c33825d-7c8d-4aaa-bdf1-daa5e9e39573"
      },
      "execution_count": 44,
      "outputs": [
        {
          "output_type": "display_data",
          "data": {
            "text/plain": [
              "<Figure size 432x288 with 1 Axes>"
            ],
            "image/png": "[encoded data removed]"
          },
          "metadata": {
            "needs_background": "light"
          }
        },
        {
          "output_type": "display_data",
          "data": {
            "text/plain": [
              "<Figure size 432x288 with 1 Axes>"
            ],
            "image/png": "[encoded data removed]"
          },
          "metadata": {
            "needs_background": "light"
          }
        }
      ]
    },
    {
      "cell_type": "code",
      "source": [
        "#Instantiating and freezing the VGG16 convolutional base\n",
        "\n",
        "conv_base = keras.applications.vgg16.VGG16(\n",
        "    weights='imagenet',\n",
        "    include_top=False)\n",
        "conv_base.trainable = False"
      ],
      "metadata": {
        "id": "5xPhxoyVZwhy"
      },
      "execution_count": 45,
      "outputs": []
    },
    {
      "cell_type": "code",
      "source": [
        "conv_base.trainable = True\n",
        "print('This is the number of trainable weights '\n",
        "      'before freezing the conv base: ', len(conv_base.trainable_weights))"
      ],
      "metadata": {
        "colab": {
          "base_uri": "https://localhost:8080/"
        },
        "id": "LIEsyF63Zysp",
        "outputId": "b6c5942f-fb8c-4d4b-8d8c-96ebc08ffbc5"
      },
      "execution_count": 46,
      "outputs": [
        {
          "output_type": "stream",
          "name": "stdout",
          "text": [
            "This is the number of trainable weights before freezing the conv base:  26\n"
          ]
        }
      ]
    },
    {
      "cell_type": "code",
      "source": [
        "conv_base.trainable = False\n",
        "print(\"This is the number of trainable weights \"\n",
        "      \"after freezing the conv base:\", len(conv_base.trainable_weights))"
      ],
      "metadata": {
        "colab": {
          "base_uri": "https://localhost:8080/"
        },
        "id": "MU2TPYt7Z0EI",
        "outputId": "645c42be-04a0-4e94-f337-3c99a56efeb7"
      },
      "execution_count": 47,
      "outputs": [
        {
          "output_type": "stream",
          "name": "stdout",
          "text": [
            "This is the number of trainable weights after freezing the conv base: 0\n"
          ]
        }
      ]
    },
    {
      "cell_type": "code",
      "source": [
        "#Adding a data augmentation stage and a classifier to the convolutional base\n",
        "data_augmentation = keras.Sequential(\n",
        "    [\n",
        "     layers.RandomFlip('horizontal'),\n",
        "     layers.RandomRotation(0.1),\n",
        "     layers.RandomZoom(0.2),\n",
        "    ]\n",
        ")\n",
        "\n",
        "inputs = keras.Input(shape=(180, 180, 3))\n",
        "x = data_augmentation(inputs)\n",
        "x = keras.applications.vgg16.preprocess_input(x)\n",
        "x = conv_base(x)\n",
        "x = layers.Flatten()(x)\n",
        "x = layers.Dense(256)(x)\n",
        "x = layers.Dropout(0.5)(x)\n",
        "outputs = layers.Dense(1, activation='sigmoid')(x)\n",
        "model = keras.Model(inputs, outputs)\n",
        "model.compile(loss='binary_crossentropy',\n",
        "              optimizer='rmsprop',\n",
        "              metrics=['accuracy'])"
      ],
      "metadata": {
        "id": "33obSWikZ1zY"
      },
      "execution_count": 48,
      "outputs": []
    },
    {
      "cell_type": "code",
      "source": [
        "callbacks = [\n",
        "             keras.callbacks.ModelCheckpoint(\n",
        "                 filepath = 'feature_extraction_with_data_augmentation.keras',\n",
        "                 save_best_only = True,\n",
        "                 monitor = 'val_loss')\n",
        "]\n",
        "\n",
        "history = model.fit(\n",
        "    train_dataset,\n",
        "    epochs=50,\n",
        "    validation_data=validation_dataset,\n",
        "    callbacks=callbacks)"
      ],
      "metadata": {
        "colab": {
          "base_uri": "https://localhost:8080/"
        },
        "id": "n2IQW6hHZ3FI",
        "outputId": "65a12892-c91e-4b2a-ba9f-82d3375fc9d0"
      },
      "execution_count": 49,
      "outputs": [
        {
          "output_type": "stream",
          "name": "stdout",
          "text": [
            "Epoch 1/50\n",
            "7/7 [==============================] - 88s 13s/step - loss: 80.8953 - accuracy: 0.6616 - val_loss: 3.8027 - val_accuracy: 0.9700\n",
            "Epoch 2/50\n",
            "7/7 [==============================] - 86s 13s/step - loss: 9.0085 - accuracy: 0.9545 - val_loss: 6.2347 - val_accuracy: 0.9400\n",
            "Epoch 3/50\n",
            "7/7 [==============================] - 86s 13s/step - loss: 8.8459 - accuracy: 0.9293 - val_loss: 5.9733 - val_accuracy: 0.9300\n",
            "Epoch 4/50\n",
            "7/7 [==============================] - 86s 13s/step - loss: 4.7058 - accuracy: 0.9495 - val_loss: 9.4806 - val_accuracy: 0.9400\n",
            "Epoch 5/50\n",
            "7/7 [==============================] - 88s 13s/step - loss: 4.2152 - accuracy: 0.9596 - val_loss: 15.2040 - val_accuracy: 0.9000\n",
            "Epoch 6/50\n",
            "7/7 [==============================] - 86s 13s/step - loss: 1.5210 - accuracy: 0.9798 - val_loss: 8.7838 - val_accuracy: 0.9600\n",
            "Epoch 7/50\n",
            "7/7 [==============================] - 86s 13s/step - loss: 0.9885 - accuracy: 0.9747 - val_loss: 13.0154 - val_accuracy: 0.9200\n",
            "Epoch 8/50\n",
            "7/7 [==============================] - 86s 13s/step - loss: 1.9674 - accuracy: 0.9697 - val_loss: 10.6816 - val_accuracy: 0.9500\n",
            "Epoch 9/50\n",
            "7/7 [==============================] - 86s 13s/step - loss: 0.7625 - accuracy: 0.9848 - val_loss: 13.0593 - val_accuracy: 0.9400\n",
            "Epoch 10/50\n",
            "7/7 [==============================] - 86s 13s/step - loss: 5.1822 - accuracy: 0.9596 - val_loss: 10.6554 - val_accuracy: 0.9400\n",
            "Epoch 11/50\n",
            "7/7 [==============================] - 88s 13s/step - loss: 2.0780 - accuracy: 0.9697 - val_loss: 18.5997 - val_accuracy: 0.9300\n",
            "Epoch 12/50\n",
            "7/7 [==============================] - 86s 13s/step - loss: 2.3804 - accuracy: 0.9697 - val_loss: 29.0651 - val_accuracy: 0.8800\n",
            "Epoch 13/50\n",
            "7/7 [==============================] - 86s 13s/step - loss: 1.6515 - accuracy: 0.9798 - val_loss: 7.3855 - val_accuracy: 0.9500\n",
            "Epoch 14/50\n",
            "7/7 [==============================] - 86s 13s/step - loss: 1.7107 - accuracy: 0.9798 - val_loss: 11.9368 - val_accuracy: 0.9300\n",
            "Epoch 15/50\n",
            "7/7 [==============================] - 86s 13s/step - loss: 0.0763 - accuracy: 0.9949 - val_loss: 7.2338 - val_accuracy: 0.9500\n",
            "Epoch 16/50\n",
            "7/7 [==============================] - 88s 13s/step - loss: 0.5516 - accuracy: 0.9848 - val_loss: 8.9042 - val_accuracy: 0.9700\n",
            "Epoch 17/50\n",
            "7/7 [==============================] - 86s 13s/step - loss: 0.5892 - accuracy: 0.9899 - val_loss: 17.1249 - val_accuracy: 0.8900\n",
            "Epoch 18/50\n",
            "7/7 [==============================] - 86s 13s/step - loss: 2.0358 - accuracy: 0.9747 - val_loss: 17.8891 - val_accuracy: 0.9000\n",
            "Epoch 19/50\n",
            "7/7 [==============================] - 86s 13s/step - loss: 2.3794 - accuracy: 0.9848 - val_loss: 7.4340 - val_accuracy: 0.9500\n",
            "Epoch 20/50\n",
            "7/7 [==============================] - 86s 13s/step - loss: 2.8629 - accuracy: 0.9697 - val_loss: 17.5677 - val_accuracy: 0.9300\n",
            "Epoch 21/50\n",
            "7/7 [==============================] - 88s 13s/step - loss: 2.3070e-30 - accuracy: 1.0000 - val_loss: 17.5677 - val_accuracy: 0.9300\n",
            "Epoch 22/50\n",
            "7/7 [==============================] - 86s 13s/step - loss: 0.1350 - accuracy: 0.9949 - val_loss: 8.4585 - val_accuracy: 0.9500\n",
            "Epoch 23/50\n",
            "7/7 [==============================] - 86s 13s/step - loss: 1.5758 - accuracy: 0.9798 - val_loss: 4.4033 - val_accuracy: 0.9600\n",
            "Epoch 24/50\n",
            "7/7 [==============================] - 88s 13s/step - loss: 0.1071 - accuracy: 0.9949 - val_loss: 8.4470 - val_accuracy: 0.9500\n",
            "Epoch 25/50\n",
            "7/7 [==============================] - 86s 13s/step - loss: 1.9197e-07 - accuracy: 1.0000 - val_loss: 8.4546 - val_accuracy: 0.9500\n",
            "Epoch 26/50\n",
            "7/7 [==============================] - 88s 13s/step - loss: 0.5549 - accuracy: 0.9848 - val_loss: 5.1090 - val_accuracy: 0.9800\n",
            "Epoch 27/50\n",
            "7/7 [==============================] - 86s 13s/step - loss: 1.5022 - accuracy: 0.9949 - val_loss: 11.1041 - val_accuracy: 0.9400\n",
            "Epoch 28/50\n",
            "7/7 [==============================] - 86s 13s/step - loss: 4.1592 - accuracy: 0.9848 - val_loss: 18.2534 - val_accuracy: 0.9000\n",
            "Epoch 29/50\n",
            "7/7 [==============================] - 88s 13s/step - loss: 0.8194 - accuracy: 0.9899 - val_loss: 32.4085 - val_accuracy: 0.8900\n",
            "Epoch 30/50\n",
            "7/7 [==============================] - 86s 13s/step - loss: 0.9006 - accuracy: 0.9899 - val_loss: 6.3054 - val_accuracy: 0.9700\n",
            "Epoch 31/50\n",
            "7/7 [==============================] - 86s 13s/step - loss: 4.8075e-12 - accuracy: 1.0000 - val_loss: 6.3054 - val_accuracy: 0.9700\n",
            "Epoch 32/50\n",
            "7/7 [==============================] - 88s 13s/step - loss: 1.4551e-26 - accuracy: 1.0000 - val_loss: 6.3054 - val_accuracy: 0.9700\n",
            "Epoch 33/50\n",
            "7/7 [==============================] - 86s 13s/step - loss: 2.5895e-25 - accuracy: 1.0000 - val_loss: 6.3054 - val_accuracy: 0.9700\n",
            "Epoch 34/50\n",
            "7/7 [==============================] - 86s 13s/step - loss: 0.0125 - accuracy: 0.9949 - val_loss: 7.9659 - val_accuracy: 0.9800\n",
            "Epoch 35/50\n",
            "7/7 [==============================] - 86s 13s/step - loss: 7.0134e-26 - accuracy: 1.0000 - val_loss: 7.9659 - val_accuracy: 0.9800\n",
            "Epoch 36/50\n",
            "7/7 [==============================] - 86s 13s/step - loss: 2.7711 - accuracy: 0.9949 - val_loss: 16.9311 - val_accuracy: 0.8900\n",
            "Epoch 37/50\n",
            "7/7 [==============================] - 88s 13s/step - loss: 1.6172 - accuracy: 0.9798 - val_loss: 13.7244 - val_accuracy: 0.9300\n",
            "Epoch 38/50\n",
            "7/7 [==============================] - 86s 13s/step - loss: 1.0271 - accuracy: 0.9899 - val_loss: 9.9429 - val_accuracy: 0.9500\n",
            "Epoch 39/50\n",
            "7/7 [==============================] - 86s 13s/step - loss: 0.0978 - accuracy: 0.9949 - val_loss: 10.2379 - val_accuracy: 0.9700\n",
            "Epoch 40/50\n",
            "7/7 [==============================] - 86s 13s/step - loss: 1.4715 - accuracy: 0.9899 - val_loss: 14.6088 - val_accuracy: 0.9500\n",
            "Epoch 41/50\n",
            "7/7 [==============================] - 86s 13s/step - loss: 0.6878 - accuracy: 0.9949 - val_loss: 9.5344 - val_accuracy: 0.9400\n",
            "Epoch 42/50\n",
            "7/7 [==============================] - 88s 13s/step - loss: 3.2310e-24 - accuracy: 1.0000 - val_loss: 9.5344 - val_accuracy: 0.9400\n",
            "Epoch 43/50\n",
            "7/7 [==============================] - 86s 13s/step - loss: 0.6749 - accuracy: 0.9899 - val_loss: 6.7564 - val_accuracy: 0.9500\n",
            "Epoch 44/50\n",
            "7/7 [==============================] - 86s 13s/step - loss: 1.8518 - accuracy: 0.9848 - val_loss: 19.1523 - val_accuracy: 0.9500\n",
            "Epoch 45/50\n",
            "7/7 [==============================] - 86s 13s/step - loss: 2.1184 - accuracy: 0.9899 - val_loss: 13.4067 - val_accuracy: 0.9400\n",
            "Epoch 46/50\n",
            "7/7 [==============================] - 88s 13s/step - loss: 0.2333 - accuracy: 0.9848 - val_loss: 11.8763 - val_accuracy: 0.9500\n",
            "Epoch 47/50\n",
            "7/7 [==============================] - 86s 13s/step - loss: 1.3641e-25 - accuracy: 1.0000 - val_loss: 11.8763 - val_accuracy: 0.9500\n",
            "Epoch 48/50\n",
            "7/7 [==============================] - 86s 13s/step - loss: 3.1735e-08 - accuracy: 1.0000 - val_loss: 11.8371 - val_accuracy: 0.9500\n",
            "Epoch 49/50\n",
            "7/7 [==============================] - 86s 13s/step - loss: 8.6933e-22 - accuracy: 1.0000 - val_loss: 11.8371 - val_accuracy: 0.9500\n",
            "Epoch 50/50\n",
            "7/7 [==============================] - 86s 13s/step - loss: 1.7174e-12 - accuracy: 1.0000 - val_loss: 11.8371 - val_accuracy: 0.9500\n"
          ]
        }
      ]
    },
    {
      "cell_type": "code",
      "source": [
        "#Evaluating the model on the test set\n",
        "\n",
        "test_model = keras.models.load_model(\n",
        "    \"feature_extraction_with_data_augmentation.keras\")\n",
        "test_loss, test_acc = test_model.evaluate(test_dataset)\n",
        "print(f\"Test accuracy: {test_acc:.3f}\")"
      ],
      "metadata": {
        "colab": {
          "base_uri": "https://localhost:8080/"
        },
        "id": "vTaKsn3wZ5Jl",
        "outputId": "85b7c9ae-0b39-4835-cba2-178ab9714d3c"
      },
      "execution_count": 50,
      "outputs": [
        {
          "output_type": "stream",
          "name": "stdout",
          "text": [
            "1/1 [==============================] - 2s 2s/step - loss: 0.0000e+00 - accuracy: 1.0000\n",
            "Test accuracy: 1.000\n"
          ]
        }
      ]
    },
    {
      "cell_type": "code",
      "source": [
        "conv_base.summary()"
      ],
      "metadata": {
        "colab": {
          "base_uri": "https://localhost:8080/"
        },
        "id": "wJwevJKoZ6rM",
        "outputId": "0c9bb4d7-d8b2-4824-b9db-35d1c0d791f0"
      },
      "execution_count": 51,
      "outputs": [
        {
          "output_type": "stream",
          "name": "stdout",
          "text": [
            "Model: \"vgg16\"\n",
            "_________________________________________________________________\n",
            " Layer (type)                Output Shape              Param #   \n",
            "=================================================================\n",
            " input_9 (InputLayer)        [(None, None, None, 3)]   0         \n",
            "                                                                 \n",
            " block1_conv1 (Conv2D)       (None, None, None, 64)    1792      \n",
            "                                                                 \n",
            " block1_conv2 (Conv2D)       (None, None, None, 64)    36928     \n",
            "                                                                 \n",
            " block1_pool (MaxPooling2D)  (None, None, None, 64)    0         \n",
            "                                                                 \n",
            " block2_conv1 (Conv2D)       (None, None, None, 128)   73856     \n",
            "                                                                 \n",
            " block2_conv2 (Conv2D)       (None, None, None, 128)   147584    \n",
            "                                                                 \n",
            " block2_pool (MaxPooling2D)  (None, None, None, 128)   0         \n",
            "                                                                 \n",
            " block3_conv1 (Conv2D)       (None, None, None, 256)   295168    \n",
            "                                                                 \n",
            " block3_conv2 (Conv2D)       (None, None, None, 256)   590080    \n",
            "                                                                 \n",
            " block3_conv3 (Conv2D)       (None, None, None, 256)   590080    \n",
            "                                                                 \n",
            " block3_pool (MaxPooling2D)  (None, None, None, 256)   0         \n",
            "                                                                 \n",
            " block4_conv1 (Conv2D)       (None, None, None, 512)   1180160   \n",
            "                                                                 \n",
            " block4_conv2 (Conv2D)       (None, None, None, 512)   2359808   \n",
            "                                                                 \n",
            " block4_conv3 (Conv2D)       (None, None, None, 512)   2359808   \n",
            "                                                                 \n",
            " block4_pool (MaxPooling2D)  (None, None, None, 512)   0         \n",
            "                                                                 \n",
            " block5_conv1 (Conv2D)       (None, None, None, 512)   2359808   \n",
            "                                                                 \n",
            " block5_conv2 (Conv2D)       (None, None, None, 512)   2359808   \n",
            "                                                                 \n",
            " block5_conv3 (Conv2D)       (None, None, None, 512)   2359808   \n",
            "                                                                 \n",
            " block5_pool (MaxPooling2D)  (None, None, None, 512)   0         \n",
            "                                                                 \n",
            "=================================================================\n",
            "Total params: 14,714,688\n",
            "Trainable params: 0\n",
            "Non-trainable params: 14,714,688\n",
            "_________________________________________________________________\n"
          ]
        }
      ]
    },
    {
      "cell_type": "code",
      "source": [
        "conv_base.trainable = True\n",
        "for layer in conv_base.layers[:-4]:\n",
        "    layer.trainable = False"
      ],
      "metadata": {
        "id": "cl3n85AuZ8Q_"
      },
      "execution_count": 52,
      "outputs": []
    },
    {
      "cell_type": "code",
      "source": [
        "model.compile(loss=\"binary_crossentropy\",\n",
        "              optimizer=keras.optimizers.RMSprop(learning_rate=1e-5),\n",
        "              metrics=[\"accuracy\"])\n",
        "\n",
        "callbacks = [\n",
        "    keras.callbacks.ModelCheckpoint(\n",
        "        filepath=\"fine_tuning.keras\",\n",
        "        save_best_only=True,\n",
        "        monitor=\"val_loss\")\n",
        "]\n",
        "history = model.fit(\n",
        "    train_dataset,\n",
        "    epochs=30,\n",
        "    validation_data=validation_dataset,\n",
        "    callbacks=callbacks)"
      ],
      "metadata": {
        "colab": {
          "base_uri": "https://localhost:8080/"
        },
        "id": "buMckj8-Z9eX",
        "outputId": "ae623e50-eb9c-4935-9edc-344926f40267"
      },
      "execution_count": 53,
      "outputs": [
        {
          "output_type": "stream",
          "name": "stdout",
          "text": [
            "Epoch 1/30\n",
            "7/7 [==============================] - 99s 14s/step - loss: 0.0000e+00 - accuracy: 1.0000 - val_loss: 11.8371 - val_accuracy: 0.9500\n",
            "Epoch 2/30\n",
            "7/7 [==============================] - 97s 14s/step - loss: 0.3215 - accuracy: 0.9899 - val_loss: 12.9361 - val_accuracy: 0.9500\n",
            "Epoch 3/30\n",
            "7/7 [==============================] - 99s 15s/step - loss: 6.8308e-27 - accuracy: 1.0000 - val_loss: 12.9361 - val_accuracy: 0.9500\n",
            "Epoch 4/30\n",
            "7/7 [==============================] - 97s 14s/step - loss: 0.2773 - accuracy: 0.9949 - val_loss: 10.3016 - val_accuracy: 0.9500\n",
            "Epoch 5/30\n",
            "7/7 [==============================] - 97s 14s/step - loss: 1.1941e-20 - accuracy: 1.0000 - val_loss: 10.3016 - val_accuracy: 0.9500\n",
            "Epoch 6/30\n",
            "7/7 [==============================] - 98s 14s/step - loss: 0.8712 - accuracy: 0.9848 - val_loss: 13.5416 - val_accuracy: 0.9500\n",
            "Epoch 7/30\n",
            "7/7 [==============================] - 96s 14s/step - loss: 2.6722e-09 - accuracy: 1.0000 - val_loss: 13.5321 - val_accuracy: 0.9500\n",
            "Epoch 8/30\n",
            "7/7 [==============================] - 98s 14s/step - loss: 0.8104 - accuracy: 0.9848 - val_loss: 11.8726 - val_accuracy: 0.9500\n",
            "Epoch 9/30\n",
            "7/7 [==============================] - 97s 14s/step - loss: 7.1776e-32 - accuracy: 1.0000 - val_loss: 11.8726 - val_accuracy: 0.9500\n",
            "Epoch 10/30\n",
            "7/7 [==============================] - 97s 14s/step - loss: 1.6942e-20 - accuracy: 1.0000 - val_loss: 11.8726 - val_accuracy: 0.9500\n",
            "Epoch 11/30\n",
            "7/7 [==============================] - 99s 15s/step - loss: 0.3868 - accuracy: 0.9949 - val_loss: 10.5316 - val_accuracy: 0.9500\n",
            "Epoch 12/30\n",
            "7/7 [==============================] - 97s 14s/step - loss: 0.2801 - accuracy: 0.9949 - val_loss: 11.1705 - val_accuracy: 0.9500\n",
            "Epoch 13/30\n",
            "7/7 [==============================] - 99s 15s/step - loss: 3.1951e-34 - accuracy: 1.0000 - val_loss: 11.1705 - val_accuracy: 0.9500\n",
            "Epoch 14/30\n",
            "7/7 [==============================] - 97s 14s/step - loss: 8.1626e-11 - accuracy: 1.0000 - val_loss: 11.1705 - val_accuracy: 0.9500\n",
            "Epoch 15/30\n",
            "7/7 [==============================] - 97s 14s/step - loss: 3.2984e-11 - accuracy: 1.0000 - val_loss: 11.1705 - val_accuracy: 0.9500\n",
            "Epoch 16/30\n",
            "7/7 [==============================] - 99s 15s/step - loss: 3.7258e-25 - accuracy: 1.0000 - val_loss: 11.1705 - val_accuracy: 0.9500\n",
            "Epoch 17/30\n",
            "7/7 [==============================] - 97s 14s/step - loss: 0.0000e+00 - accuracy: 1.0000 - val_loss: 11.1705 - val_accuracy: 0.9500\n",
            "Epoch 18/30\n",
            "7/7 [==============================] - 97s 14s/step - loss: 1.2292e-06 - accuracy: 1.0000 - val_loss: 11.0978 - val_accuracy: 0.9500\n",
            "Epoch 19/30\n",
            "7/7 [==============================] - 99s 15s/step - loss: 2.2789e-24 - accuracy: 1.0000 - val_loss: 11.0978 - val_accuracy: 0.9500\n",
            "Epoch 20/30\n",
            "7/7 [==============================] - 97s 14s/step - loss: 0.0000e+00 - accuracy: 1.0000 - val_loss: 11.0978 - val_accuracy: 0.9500\n",
            "Epoch 21/30\n",
            "7/7 [==============================] - 97s 14s/step - loss: 0.6075 - accuracy: 0.9949 - val_loss: 15.5040 - val_accuracy: 0.9400\n",
            "Epoch 22/30\n",
            "7/7 [==============================] - 99s 15s/step - loss: 4.9507e-10 - accuracy: 1.0000 - val_loss: 15.5029 - val_accuracy: 0.9400\n",
            "Epoch 23/30\n",
            "7/7 [==============================] - 97s 14s/step - loss: 0.0826 - accuracy: 0.9949 - val_loss: 10.0405 - val_accuracy: 0.9500\n",
            "Epoch 24/30\n",
            "7/7 [==============================] - 97s 14s/step - loss: 3.8142e-10 - accuracy: 1.0000 - val_loss: 10.0408 - val_accuracy: 0.9500\n",
            "Epoch 25/30\n",
            "7/7 [==============================] - 97s 14s/step - loss: 0.2114 - accuracy: 0.9949 - val_loss: 13.8455 - val_accuracy: 0.9300\n",
            "Epoch 26/30\n",
            "7/7 [==============================] - 99s 15s/step - loss: 0.1772 - accuracy: 0.9949 - val_loss: 10.1285 - val_accuracy: 0.9500\n",
            "Epoch 27/30\n",
            "7/7 [==============================] - 97s 14s/step - loss: 0.0000e+00 - accuracy: 1.0000 - val_loss: 10.1285 - val_accuracy: 0.9500\n",
            "Epoch 28/30\n",
            "7/7 [==============================] - 97s 14s/step - loss: 0.1356 - accuracy: 0.9949 - val_loss: 13.0715 - val_accuracy: 0.9400\n",
            "Epoch 29/30\n",
            "7/7 [==============================] - 97s 14s/step - loss: 4.5751e-31 - accuracy: 1.0000 - val_loss: 13.0715 - val_accuracy: 0.9400\n",
            "Epoch 30/30\n",
            "7/7 [==============================] - 97s 14s/step - loss: 1.8017e-23 - accuracy: 1.0000 - val_loss: 13.0715 - val_accuracy: 0.9400\n"
          ]
        }
      ]
    },
    {
      "cell_type": "code",
      "source": [
        "model = keras.models.load_model(\"fine_tuning.keras\")\n",
        "test_loss, test_acc = model.evaluate(test_dataset)\n",
        "print(f\"Test accuracy: {test_acc:.3f}\")"
      ],
      "metadata": {
        "colab": {
          "base_uri": "https://localhost:8080/"
        },
        "id": "LDg_rCVlZ-0c",
        "outputId": "b404f080-55d9-4997-ba80-0c3cd5248243"
      },
      "execution_count": 54,
      "outputs": [
        {
          "output_type": "stream",
          "name": "stdout",
          "text": [
            "1/1 [==============================] - 2s 2s/step - loss: 0.0000e+00 - accuracy: 1.0000\n",
            "Test accuracy: 1.000\n"
          ]
        }
      ]
    }
  ]
}