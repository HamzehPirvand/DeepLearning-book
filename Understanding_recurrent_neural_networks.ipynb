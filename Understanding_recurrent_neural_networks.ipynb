{
  "nbformat": 4,
  "nbformat_minor": 0,
  "metadata": {
    "colab": {
      "name": "Understanding recurrent neural networks.ipynb",
      "provenance": [],
      "collapsed_sections": []
    },
    "kernelspec": {
      "name": "python3",
      "display_name": "Python 3"
    },
    "language_info": {
      "name": "python"
    }
  },
  "cells": [
    {
      "cell_type": "code",
      "source": [
        "from keras.layers import SimpleRNN"
      ],
      "metadata": {
        "id": "KrJOgXvHhP0D"
      },
      "execution_count": 9,
      "outputs": []
    },
    {
      "cell_type": "code",
      "source": [
        "from keras.models import Sequential\n",
        "from keras.layers import Embedding, SimpleRNN\n",
        "\n",
        "model = Sequential()\n",
        "model.add(Embedding(10000, 32))\n",
        "model.add(SimpleRNN(32))\n",
        "model.summary()"
      ],
      "metadata": {
        "colab": {
          "base_uri": "https://localhost:8080/"
        },
        "id": "g6Oqn2KClIgl",
        "outputId": "c9d445e8-d1b7-4119-9d1d-e5d251b8905d"
      },
      "execution_count": 10,
      "outputs": [
        {
          "output_type": "stream",
          "name": "stdout",
          "text": [
            "Model: \"sequential_2\"\n",
            "_________________________________________________________________\n",
            " Layer (type)                Output Shape              Param #   \n",
            "=================================================================\n",
            " embedding_4 (Embedding)     (None, None, 32)          320000    \n",
            "                                                                 \n",
            " simple_rnn (SimpleRNN)      (None, 32)                2080      \n",
            "                                                                 \n",
            "=================================================================\n",
            "Total params: 322,080\n",
            "Trainable params: 322,080\n",
            "Non-trainable params: 0\n",
            "_________________________________________________________________\n"
          ]
        }
      ]
    },
    {
      "cell_type": "code",
      "source": [
        "model = Sequential()\n",
        "model.add(Embedding(10000, 32))\n",
        "model.add(SimpleRNN(32, return_sequences=True))\n",
        "model.summary()"
      ],
      "metadata": {
        "colab": {
          "base_uri": "https://localhost:8080/"
        },
        "id": "u_rngRoUlss-",
        "outputId": "656c24a1-31a8-44e4-a325-637b15b4fbcc"
      },
      "execution_count": 11,
      "outputs": [
        {
          "output_type": "stream",
          "name": "stdout",
          "text": [
            "Model: \"sequential_3\"\n",
            "_________________________________________________________________\n",
            " Layer (type)                Output Shape              Param #   \n",
            "=================================================================\n",
            " embedding_5 (Embedding)     (None, None, 32)          320000    \n",
            "                                                                 \n",
            " simple_rnn_1 (SimpleRNN)    (None, None, 32)          2080      \n",
            "                                                                 \n",
            "=================================================================\n",
            "Total params: 322,080\n",
            "Trainable params: 322,080\n",
            "Non-trainable params: 0\n",
            "_________________________________________________________________\n"
          ]
        }
      ]
    },
    {
      "cell_type": "code",
      "source": [
        "model = Sequential()\n",
        "model.add(Embedding(10000, 32))\n",
        "model.add(SimpleRNN(32, return_sequences=True))\n",
        "model.add(SimpleRNN(32, return_sequences=True))\n",
        "model.add(SimpleRNN(32, return_sequences=True))\n",
        "model.add(SimpleRNN(32))   # This last layer only returns the last outputs.\n",
        "model.summary()"
      ],
      "metadata": {
        "colab": {
          "base_uri": "https://localhost:8080/"
        },
        "id": "2vx2y-Q2l-gN",
        "outputId": "6ed05f9e-caf3-4c63-b4b8-f896c5649bcc"
      },
      "execution_count": 12,
      "outputs": [
        {
          "output_type": "stream",
          "name": "stdout",
          "text": [
            "Model: \"sequential_4\"\n",
            "_________________________________________________________________\n",
            " Layer (type)                Output Shape              Param #   \n",
            "=================================================================\n",
            " embedding_6 (Embedding)     (None, None, 32)          320000    \n",
            "                                                                 \n",
            " simple_rnn_2 (SimpleRNN)    (None, None, 32)          2080      \n",
            "                                                                 \n",
            " simple_rnn_3 (SimpleRNN)    (None, None, 32)          2080      \n",
            "                                                                 \n",
            " simple_rnn_4 (SimpleRNN)    (None, None, 32)          2080      \n",
            "                                                                 \n",
            " simple_rnn_5 (SimpleRNN)    (None, 32)                2080      \n",
            "                                                                 \n",
            "=================================================================\n",
            "Total params: 328,320\n",
            "Trainable params: 328,320\n",
            "Non-trainable params: 0\n",
            "_________________________________________________________________\n"
          ]
        }
      ]
    },
    {
      "cell_type": "code",
      "source": [
        "from keras.datasets import imdb\n",
        "from keras.preprocessing import sequence\n",
        "\n",
        "max_features = 10000 # number of words to consider as features\n",
        "maxlen = 500  # cut texts after this number of words (among top max_features most common words)\n",
        "batch_size = 32\n",
        "\n",
        "print('Loading data...')\n",
        "(input_train, y_train), (input_test, y_test) = imdb.load_data(num_words=max_features)\n",
        "print(len(input_train), 'train sequences')\n",
        "print(len(input_test), 'test sequences')\n",
        "\n",
        "print('Pad sequences (samples x time)')\n",
        "input_train = sequence.pad_sequences(input_train, maxlen=maxlen)\n",
        "input_test = sequence.pad_sequences(input_test, maxlen=maxlen)\n",
        "print('input_train shape:', input_train.shape)\n",
        "print('input_test shape:', input_test.shape)"
      ],
      "metadata": {
        "colab": {
          "base_uri": "https://localhost:8080/"
        },
        "id": "MKqirDXkmcli",
        "outputId": "634bd566-a9cd-48ac-f901-50f1a43936cd"
      },
      "execution_count": 13,
      "outputs": [
        {
          "output_type": "stream",
          "name": "stdout",
          "text": [
            "Loading data...\n",
            "25000 train sequences\n",
            "25000 test sequences\n",
            "Pad sequences (samples x time)\n",
            "input_train shape: (25000, 500)\n",
            "input_test shape: (25000, 500)\n"
          ]
        }
      ]
    },
    {
      "cell_type": "code",
      "source": [
        "from keras.layers import Dense\n",
        "\n",
        "model = Sequential()\n",
        "model.add(Embedding(max_features, 32))\n",
        "model.add(SimpleRNN(32))\n",
        "model.add(Dense(1, activation='sigmoid'))\n",
        "\n",
        "model.compile(optimizer='rmsprop', loss='binary_crossentropy', metrics=['acc'])\n",
        "history = model.fit(input_train, y_train,\n",
        "                    epochs=10,\n",
        "                    batch_size=128,\n",
        "                    validation_split=0.2)"
      ],
      "metadata": {
        "colab": {
          "base_uri": "https://localhost:8080/"
        },
        "id": "nAE_Pc9a7mAe",
        "outputId": "d8da8110-89fd-490a-8d69-512cf70cda7e"
      },
      "execution_count": 14,
      "outputs": [
        {
          "output_type": "stream",
          "name": "stdout",
          "text": [
            "Epoch 1/10\n",
            "157/157 [==============================] - 33s 197ms/step - loss: 0.6210 - acc: 0.6352 - val_loss: 0.4319 - val_acc: 0.8140\n",
            "Epoch 2/10\n",
            "157/157 [==============================] - 38s 240ms/step - loss: 0.3751 - acc: 0.8409 - val_loss: 0.4416 - val_acc: 0.7962\n",
            "Epoch 3/10\n",
            "157/157 [==============================] - 35s 225ms/step - loss: 0.2857 - acc: 0.8873 - val_loss: 0.4296 - val_acc: 0.8082\n",
            "Epoch 4/10\n",
            "157/157 [==============================] - 35s 224ms/step - loss: 0.2123 - acc: 0.9214 - val_loss: 0.3777 - val_acc: 0.8564\n",
            "Epoch 5/10\n",
            "157/157 [==============================] - 53s 339ms/step - loss: 0.1617 - acc: 0.9413 - val_loss: 0.4208 - val_acc: 0.8302\n",
            "Epoch 6/10\n",
            "157/157 [==============================] - 46s 292ms/step - loss: 0.1036 - acc: 0.9652 - val_loss: 0.5132 - val_acc: 0.8416\n",
            "Epoch 7/10\n",
            "157/157 [==============================] - 48s 308ms/step - loss: 0.0889 - acc: 0.9712 - val_loss: 0.5588 - val_acc: 0.7914\n",
            "Epoch 8/10\n",
            "157/157 [==============================] - 35s 224ms/step - loss: 0.0530 - acc: 0.9840 - val_loss: 0.5323 - val_acc: 0.8460\n",
            "Epoch 9/10\n",
            "157/157 [==============================] - 42s 268ms/step - loss: 0.0307 - acc: 0.9906 - val_loss: 0.5933 - val_acc: 0.8344\n",
            "Epoch 10/10\n",
            "157/157 [==============================] - 43s 277ms/step - loss: 0.0295 - acc: 0.9908 - val_loss: 0.6773 - val_acc: 0.8188\n"
          ]
        }
      ]
    },
    {
      "cell_type": "code",
      "source": [
        "import matplotlib.pyplot as plt         \n",
        "\n",
        "acc = history.history['acc']\n",
        "val_acc = history.history['val_acc']\n",
        "loss = history.history['loss']\n",
        "val_loss = history.history['val_loss']\n",
        "\n",
        "epochs = range(len(acc))\n",
        "\n",
        "\n",
        "plt.plot(epochs, acc, 'bo', label='Training acc')\n",
        "plt.plot(epochs, val_acc, 'b', label='Validation acc')\n",
        "plt.legend()\n",
        "\n",
        "plt.figure()\n",
        "\n",
        "plt.plot(epochs, loss, 'bo', label='Training loss')\n",
        "plt.plot(epochs, val_loss, 'b', label='Validation loss')\n",
        "plt.legend()\n",
        "\n",
        "plt.show()"
      ],
      "metadata": {
        "colab": {
          "base_uri": "https://localhost:8080/",
          "height": 514
        },
        "id": "ZYI1xiiL8XoT",
        "outputId": "71eccb3d-1dbf-4c3c-9ed8-1b9dac987446"
      },
      "execution_count": 15,
      "outputs": [
        {
          "output_type": "display_data",
          "data": {
            "text/plain": [
              "<Figure size 432x288 with 1 Axes>"
            ],
            "image/png": "[encoded data removed]"
          },
          "metadata": {
            "needs_background": "light"
          }
        },
        {
          "output_type": "display_data",
          "data": {
            "text/plain": [
              "<Figure size 432x288 with 1 Axes>"
            ],
            "image/png": "[encoded data removed]"
          },
          "metadata": {
            "needs_background": "light"
          }
        }
      ]
    },
    {
      "cell_type": "code",
      "source": [
        "from keras.layers import LSTM\n",
        "\n",
        "model = Sequential()\n",
        "model.add(Embedding(max_features, 32))\n",
        "model.add(LSTM(32))\n",
        "model.add(Dense(1, activation='sigmoid'))\n",
        "\n",
        "\n",
        "model.compile(optimizer='rmsprop',\n",
        "              loss='binary_crossentropy',\n",
        "              metrics=['acc'])\n",
        "\n",
        "history = model.fit(input_train, y_train,\n",
        "                    epochs=10,\n",
        "                    batch_size=128,\n",
        "                    validation_split=0.2)"
      ],
      "metadata": {
        "colab": {
          "base_uri": "https://localhost:8080/"
        },
        "id": "4Vqn7Zzd9eE3",
        "outputId": "f8e3b1b3-a423-47c7-8db6-c0632a68aa84"
      },
      "execution_count": 16,
      "outputs": [
        {
          "output_type": "stream",
          "name": "stdout",
          "text": [
            "Epoch 1/10\n",
            "157/157 [==============================] - 64s 391ms/step - loss: 0.5255 - acc: 0.7596 - val_loss: 0.3783 - val_acc: 0.8524\n",
            "Epoch 2/10\n",
            "157/157 [==============================] - 60s 383ms/step - loss: 0.3100 - acc: 0.8787 - val_loss: 0.3318 - val_acc: 0.8632\n",
            "Epoch 3/10\n",
            "157/157 [==============================] - 59s 377ms/step - loss: 0.2404 - acc: 0.9100 - val_loss: 0.3421 - val_acc: 0.8558\n",
            "Epoch 4/10\n",
            "157/157 [==============================] - 59s 378ms/step - loss: 0.2104 - acc: 0.9231 - val_loss: 0.3675 - val_acc: 0.8676\n",
            "Epoch 5/10\n",
            "157/157 [==============================] - 60s 379ms/step - loss: 0.1867 - acc: 0.9323 - val_loss: 0.5286 - val_acc: 0.8532\n",
            "Epoch 6/10\n",
            "157/157 [==============================] - 59s 374ms/step - loss: 0.1592 - acc: 0.9409 - val_loss: 0.5350 - val_acc: 0.8210\n",
            "Epoch 7/10\n",
            "157/157 [==============================] - 59s 378ms/step - loss: 0.1490 - acc: 0.9477 - val_loss: 0.3370 - val_acc: 0.8902\n",
            "Epoch 8/10\n",
            "157/157 [==============================] - 57s 364ms/step - loss: 0.1334 - acc: 0.9528 - val_loss: 0.4763 - val_acc: 0.8406\n",
            "Epoch 9/10\n",
            "157/157 [==============================] - 61s 386ms/step - loss: 0.1267 - acc: 0.9559 - val_loss: 0.3400 - val_acc: 0.8744\n",
            "Epoch 10/10\n",
            "157/157 [==============================] - 55s 352ms/step - loss: 0.1158 - acc: 0.9604 - val_loss: 0.5907 - val_acc: 0.8130\n"
          ]
        }
      ]
    },
    {
      "cell_type": "code",
      "source": [
        "acc = history.history['acc']\n",
        "val_acc = history.history['val_acc']\n",
        "loss = history.history['loss']\n",
        "val_loss = history.history['val_loss']\n",
        "\n",
        "epochs = range(len(acc))\n",
        "\n",
        "plt.plot(epochs, acc, 'bo', label='Training acc')\n",
        "plt.plot(epochs, val_acc, 'b', label='Validation acc')\n",
        "plt.title('Training and validation accuracy')\n",
        "plt.legend()\n",
        "\n",
        "plt.figure()\n",
        "\n",
        "plt.plot(epochs, loss, 'bo', label='Training loss')\n",
        "plt.plot(epochs, val_loss, 'b', label='Validation loss')\n",
        "plt.title('Training and validation loss')\n",
        "plt.legend()\n",
        "\n",
        "plt.show()"
      ],
      "metadata": {
        "colab": {
          "base_uri": "https://localhost:8080/",
          "height": 545
        },
        "id": "FZJujyyl-Pve",
        "outputId": "80184824-8f63-4694-ae1f-9c7538a300ad"
      },
      "execution_count": 17,
      "outputs": [
        {
          "output_type": "display_data",
          "data": {
            "text/plain": [
              "<Figure size 432x288 with 1 Axes>"
            ],
            "image/png": "[encoded data removed]"
          },
          "metadata": {
            "needs_background": "light"
          }
        },
        {
          "output_type": "display_data",
          "data": {
            "text/plain": [
              "<Figure size 432x288 with 1 Axes>"
            ],
            "image/png": "[encoded data removed]"
          },
          "metadata": {
            "needs_background": "light"
          }
        }
      ]
    }
  ]
}