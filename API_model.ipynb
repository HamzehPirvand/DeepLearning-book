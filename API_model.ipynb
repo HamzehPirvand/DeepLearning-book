{
  "nbformat": 4,
  "nbformat_minor": 0,
  "metadata": {
    "colab": {
      "name": "API model.ipynb",
      "provenance": [],
      "collapsed_sections": []
    },
    "kernelspec": {
      "name": "python3",
      "display_name": "Python 3"
    },
    "language_info": {
      "name": "python"
    }
  },
  "cells": [
    {
      "cell_type": "code",
      "metadata": {
        "id": "vUZWhofjUIWn"
      },
      "source": [
        "train_dir = \"/content/drive/MyDrive/All-datasets/cats_and_dogs_small/train\"\n",
        "validation_dir = \"/content/drive/MyDrive/All-datasets/cats_and_dogs_small/validation\"\n",
        "test_dir = \"/content/drive/MyDrive/All-datasets/cats_and_dogs_small/test\"\n",
        "train_cats_dir = \"/content/drive/MyDrive/All-datasets/cats_and_dogs_small/train/Cat\"\n",
        "train_dogs_dir = \"/content/drive/MyDrive/All-datasets/cats_and_dogs_small/train/Dog\"\n",
        "validation_cats_dir = \"/content/drive/MyDrive/All-datasets/cats_and_dogs_small/validation/Cat\"\n",
        "validation_dogs_dir = \"/content/drive/MyDrive/All-datasets/cats_and_dogs_small/validation/Dog\"\n",
        "test_cats_dir = \"/content/drive/MyDrive/All-datasets/cats_and_dogs_small/test/Cat\"\n",
        "test_dogs_dir = \"/content/drive/MyDrive/All-datasets/cats_and_dogs_small/test/Dog\""
      ],
      "execution_count": null,
      "outputs": []
    },
    {
      "cell_type": "code",
      "metadata": {
        "id": "73KG3B4fUQlA"
      },
      "source": [
        "from tensorflow import keras\n",
        "from tensorflow.keras import layers\n",
        "\n",
        "inputs = keras.Input(shape=(180, 180, 3))\n",
        "x = layers.Rescaling(1./255)(inputs)\n",
        "x = layers.Conv2D(filters=32, kernel_size=3, activation=\"relu\")(x)\n",
        "x = layers.MaxPooling2D(pool_size=2)(x)\n",
        "x = layers.Conv2D(filters=64, kernel_size=3, activation=\"relu\")(x)\n",
        "x = layers.MaxPooling2D(pool_size=2)(x)\n",
        "x = layers.Conv2D(filters=128, kernel_size=3, activation=\"relu\")(x)\n",
        "x = layers.MaxPooling2D(pool_size=2)(x)\n",
        "x = layers.Conv2D(filters=256, kernel_size=3, activation=\"relu\")(x)\n",
        "x = layers.MaxPooling2D(pool_size=2)(x)\n",
        "x = layers.Conv2D(filters=256, kernel_size=3, activation=\"relu\")(x)\n",
        "x = layers.Flatten()(x)\n",
        "x = layers.Dropout(0.5)(x)\n",
        "outputs = layers.Dense(1, activation=\"sigmoid\")(x)\n",
        "model = keras.Model(inputs=inputs, outputs=outputs)"
      ],
      "execution_count": null,
      "outputs": []
    },
    {
      "cell_type": "code",
      "metadata": {
        "colab": {
          "base_uri": "https://localhost:8080/"
        },
        "id": "neIIcAXdVw4p",
        "outputId": "a3e7f370-9456-4adf-b35c-6725d3c2d310"
      },
      "source": [
        "model.summary()"
      ],
      "execution_count": null,
      "outputs": [
        {
          "output_type": "stream",
          "name": "stdout",
          "text": [
            "Model: \"model_2\"\n",
            "_________________________________________________________________\n",
            "Layer (type)                 Output Shape              Param #   \n",
            "=================================================================\n",
            "input_4 (InputLayer)         [(None, 180, 180, 3)]     0         \n",
            "_________________________________________________________________\n",
            "rescaling_2 (Rescaling)      (None, 180, 180, 3)       0         \n",
            "_________________________________________________________________\n",
            "conv2d_22 (Conv2D)           (None, 178, 178, 32)      896       \n",
            "_________________________________________________________________\n",
            "max_pooling2d_20 (MaxPooling (None, 89, 89, 32)        0         \n",
            "_________________________________________________________________\n",
            "conv2d_23 (Conv2D)           (None, 87, 87, 64)        18496     \n",
            "_________________________________________________________________\n",
            "max_pooling2d_21 (MaxPooling (None, 43, 43, 64)        0         \n",
            "_________________________________________________________________\n",
            "conv2d_24 (Conv2D)           (None, 41, 41, 128)       73856     \n",
            "_________________________________________________________________\n",
            "max_pooling2d_22 (MaxPooling (None, 20, 20, 128)       0         \n",
            "_________________________________________________________________\n",
            "conv2d_25 (Conv2D)           (None, 18, 18, 256)       295168    \n",
            "_________________________________________________________________\n",
            "max_pooling2d_23 (MaxPooling (None, 9, 9, 256)         0         \n",
            "_________________________________________________________________\n",
            "conv2d_26 (Conv2D)           (None, 7, 7, 256)         590080    \n",
            "_________________________________________________________________\n",
            "flatten_5 (Flatten)          (None, 12544)             0         \n",
            "_________________________________________________________________\n",
            "dropout_1 (Dropout)          (None, 12544)             0         \n",
            "_________________________________________________________________\n",
            "dense_8 (Dense)              (None, 1)                 12545     \n",
            "=================================================================\n",
            "Total params: 991,041\n",
            "Trainable params: 991,041\n",
            "Non-trainable params: 0\n",
            "_________________________________________________________________\n"
          ]
        }
      ]
    },
    {
      "cell_type": "code",
      "metadata": {
        "id": "IA9sXcDzWCB0"
      },
      "source": [
        "model.compile(loss=\"binary_crossentropy\",\n",
        "              optimizer=\"rmsprop\",\n",
        "              metrics=[\"accuracy\"])"
      ],
      "execution_count": null,
      "outputs": []
    },
    {
      "cell_type": "code",
      "metadata": {
        "colab": {
          "base_uri": "https://localhost:8080/"
        },
        "id": "L-2ZmyxkWYgT",
        "outputId": "25ea0ff2-3f2d-4e0e-d65f-8335b185f306"
      },
      "source": [
        "from tensorflow.keras.utils import image_dataset_from_directory\n",
        "\n",
        "train_dataset = image_dataset_from_directory(\n",
        "    train_dir,\n",
        "    image_size=(180, 180),\n",
        "    batch_size=32)\n",
        "validation_dataset = image_dataset_from_directory(\n",
        "    validation_dir,\n",
        "    image_size=(180, 180),\n",
        "    batch_size=32)\n",
        "test_dataset = image_dataset_from_directory(\n",
        "    test_dir,\n",
        "    image_size=(180, 180),\n",
        "    batch_size=32)"
      ],
      "execution_count": null,
      "outputs": [
        {
          "output_type": "stream",
          "name": "stdout",
          "text": [
            "Found 198 files belonging to 2 classes.\n",
            "Found 100 files belonging to 2 classes.\n",
            "Found 6 files belonging to 2 classes.\n"
          ]
        }
      ]
    },
    {
      "cell_type": "code",
      "metadata": {
        "id": "-xeUgO9_WbiX"
      },
      "source": [
        "import numpy as np\n",
        "import tensorflow as tf\n",
        "random_numbers = np.random.normal(size=(1000, 16))\n",
        "dataset = tf.data.Dataset.from_tensor_slices(random_numbers)"
      ],
      "execution_count": null,
      "outputs": []
    },
    {
      "cell_type": "code",
      "metadata": {
        "colab": {
          "base_uri": "https://localhost:8080/"
        },
        "id": "G5A5VarlXWL7",
        "outputId": "0782ae98-062d-4147-d55a-0e6184cbe246"
      },
      "source": [
        "for i, element in enumerate(dataset):\n",
        "    print(element.shape)\n",
        "    if i >= 2:\n",
        "        break"
      ],
      "execution_count": null,
      "outputs": [
        {
          "output_type": "stream",
          "name": "stdout",
          "text": [
            "(16,)\n",
            "(16,)\n",
            "(16,)\n"
          ]
        }
      ]
    },
    {
      "cell_type": "code",
      "metadata": {
        "colab": {
          "base_uri": "https://localhost:8080/"
        },
        "id": "aceXENI-XZER",
        "outputId": "f541b029-b526-49ff-c8db-7b3dc3f721df"
      },
      "source": [
        "batched_dataset = dataset.batch(32)\n",
        "for i, element in enumerate(batched_dataset):\n",
        "    print(element.shape)\n",
        "    if i >= 2:\n",
        "        break"
      ],
      "execution_count": null,
      "outputs": [
        {
          "output_type": "stream",
          "name": "stdout",
          "text": [
            "(32, 16)\n",
            "(32, 16)\n",
            "(32, 16)\n"
          ]
        }
      ]
    },
    {
      "cell_type": "code",
      "metadata": {
        "colab": {
          "base_uri": "https://localhost:8080/"
        },
        "id": "Ryoth635Xbw6",
        "outputId": "82191074-fb70-4bd7-92cc-c4010272e339"
      },
      "source": [
        "\n",
        "reshaped_dataset = dataset.map(lambda x: tf.reshape(x, (4, 4)))\n",
        "for i, element in enumerate(reshaped_dataset):\n",
        "    print(element.shape)\n",
        "    if i >= 2:\n",
        "        break"
      ],
      "execution_count": null,
      "outputs": [
        {
          "output_type": "stream",
          "name": "stdout",
          "text": [
            "(4, 4)\n",
            "(4, 4)\n",
            "(4, 4)\n"
          ]
        }
      ]
    },
    {
      "cell_type": "code",
      "metadata": {
        "colab": {
          "base_uri": "https://localhost:8080/"
        },
        "id": "TmyNNKqwXeNT",
        "outputId": "ee8450f3-b729-4d9e-be80-c33f261158bd"
      },
      "source": [
        "for data_batch, labels_batch in train_dataset:\n",
        "    print(\"data batch shape:\", data_batch.shape)\n",
        "    print(\"labels batch shape:\", labels_batch.shape)\n",
        "    break"
      ],
      "execution_count": null,
      "outputs": [
        {
          "output_type": "stream",
          "name": "stdout",
          "text": [
            "data batch shape: (32, 180, 180, 3)\n",
            "labels batch shape: (32,)\n"
          ]
        }
      ]
    },
    {
      "cell_type": "code",
      "metadata": {
        "colab": {
          "base_uri": "https://localhost:8080/"
        },
        "id": "1hs7W9w-XhIf",
        "outputId": "cf2a6ca0-3e93-48c5-c4fe-55e642d3a250"
      },
      "source": [
        "callbacks = [\n",
        "    keras.callbacks.ModelCheckpoint(\n",
        "        filepath=\"/content/drive/MyDrive/All-datasets/cats_and_dogs_small/convnet_from_scratch.keras\",\n",
        "        save_best_only=True,\n",
        "        monitor=\"val_loss\")\n",
        "]\n",
        "history = model.fit(\n",
        "    train_dataset,\n",
        "    epochs=30,\n",
        "    validation_data=validation_dataset,\n",
        "    callbacks=callbacks)"
      ],
      "execution_count": null,
      "outputs": [
        {
          "output_type": "stream",
          "name": "stdout",
          "text": [
            "Epoch 1/30\n",
            "7/7 [==============================] - 30s 4s/step - loss: 0.8598 - accuracy: 0.4899 - val_loss: 0.7003 - val_accuracy: 0.5000\n",
            "Epoch 2/30\n",
            "7/7 [==============================] - 16s 2s/step - loss: 0.7017 - accuracy: 0.4545 - val_loss: 0.6929 - val_accuracy: 0.5000\n",
            "Epoch 3/30\n",
            "7/7 [==============================] - 16s 2s/step - loss: 0.6947 - accuracy: 0.4394 - val_loss: 0.6932 - val_accuracy: 0.5000\n",
            "Epoch 4/30\n",
            "7/7 [==============================] - 16s 2s/step - loss: 0.6937 - accuracy: 0.5051 - val_loss: 0.6928 - val_accuracy: 0.5700\n",
            "Epoch 5/30\n",
            "7/7 [==============================] - 16s 2s/step - loss: 0.6924 - accuracy: 0.5606 - val_loss: 0.6935 - val_accuracy: 0.5000\n",
            "Epoch 6/30\n",
            "7/7 [==============================] - 16s 2s/step - loss: 0.6931 - accuracy: 0.5152 - val_loss: 0.6909 - val_accuracy: 0.5000\n",
            "Epoch 7/30\n",
            "7/7 [==============================] - 16s 2s/step - loss: 0.6905 - accuracy: 0.5202 - val_loss: 0.6997 - val_accuracy: 0.5000\n",
            "Epoch 8/30\n",
            "7/7 [==============================] - 16s 2s/step - loss: 0.6955 - accuracy: 0.5404 - val_loss: 0.7004 - val_accuracy: 0.5000\n",
            "Epoch 9/30\n",
            "7/7 [==============================] - 16s 2s/step - loss: 0.7849 - accuracy: 0.5404 - val_loss: 0.6913 - val_accuracy: 0.4900\n",
            "Epoch 10/30\n",
            "7/7 [==============================] - 16s 2s/step - loss: 0.6810 - accuracy: 0.5505 - val_loss: 0.6913 - val_accuracy: 0.5300\n",
            "Epoch 11/30\n",
            "7/7 [==============================] - 16s 2s/step - loss: 0.6742 - accuracy: 0.5707 - val_loss: 0.6876 - val_accuracy: 0.5500\n",
            "Epoch 12/30\n",
            "7/7 [==============================] - 16s 2s/step - loss: 0.6684 - accuracy: 0.5909 - val_loss: 0.6936 - val_accuracy: 0.5100\n",
            "Epoch 13/30\n",
            "7/7 [==============================] - 16s 2s/step - loss: 0.6772 - accuracy: 0.6061 - val_loss: 0.7204 - val_accuracy: 0.5000\n",
            "Epoch 14/30\n",
            "7/7 [==============================] - 16s 2s/step - loss: 0.6514 - accuracy: 0.6364 - val_loss: 0.6884 - val_accuracy: 0.6100\n",
            "Epoch 15/30\n",
            "7/7 [==============================] - 16s 2s/step - loss: 0.6137 - accuracy: 0.6818 - val_loss: 1.5205 - val_accuracy: 0.5100\n",
            "Epoch 16/30\n",
            "7/7 [==============================] - 16s 2s/step - loss: 0.7742 - accuracy: 0.6616 - val_loss: 0.7226 - val_accuracy: 0.4900\n",
            "Epoch 17/30\n",
            "7/7 [==============================] - 16s 2s/step - loss: 0.5322 - accuracy: 0.7576 - val_loss: 0.8307 - val_accuracy: 0.5200\n",
            "Epoch 18/30\n",
            "7/7 [==============================] - 16s 2s/step - loss: 0.5343 - accuracy: 0.7273 - val_loss: 0.8154 - val_accuracy: 0.4900\n",
            "Epoch 19/30\n",
            "7/7 [==============================] - 16s 2s/step - loss: 0.4286 - accuracy: 0.7929 - val_loss: 1.0406 - val_accuracy: 0.5000\n",
            "Epoch 20/30\n",
            "7/7 [==============================] - 17s 2s/step - loss: 0.4419 - accuracy: 0.8030 - val_loss: 1.1892 - val_accuracy: 0.5200\n",
            "Epoch 21/30\n",
            "7/7 [==============================] - 16s 2s/step - loss: 0.4718 - accuracy: 0.7626 - val_loss: 1.0565 - val_accuracy: 0.4700\n",
            "Epoch 22/30\n",
            "7/7 [==============================] - 16s 2s/step - loss: 0.3123 - accuracy: 0.8586 - val_loss: 0.8711 - val_accuracy: 0.5600\n",
            "Epoch 23/30\n",
            "7/7 [==============================] - 17s 2s/step - loss: 0.3094 - accuracy: 0.8485 - val_loss: 1.1266 - val_accuracy: 0.5400\n",
            "Epoch 24/30\n",
            "7/7 [==============================] - 17s 2s/step - loss: 0.3135 - accuracy: 0.8687 - val_loss: 1.8520 - val_accuracy: 0.4400\n",
            "Epoch 25/30\n",
            "7/7 [==============================] - 17s 2s/step - loss: 0.2650 - accuracy: 0.8990 - val_loss: 1.1530 - val_accuracy: 0.5400\n",
            "Epoch 26/30\n",
            "7/7 [==============================] - 16s 2s/step - loss: 0.1965 - accuracy: 0.9444 - val_loss: 1.3011 - val_accuracy: 0.5000\n",
            "Epoch 27/30\n",
            "7/7 [==============================] - 17s 2s/step - loss: 0.2141 - accuracy: 0.8990 - val_loss: 1.2701 - val_accuracy: 0.6000\n",
            "Epoch 28/30\n",
            "7/7 [==============================] - 17s 2s/step - loss: 0.0895 - accuracy: 0.9798 - val_loss: 1.6752 - val_accuracy: 0.5800\n",
            "Epoch 29/30\n",
            "7/7 [==============================] - 17s 2s/step - loss: 0.3209 - accuracy: 0.8990 - val_loss: 1.6127 - val_accuracy: 0.4800\n",
            "Epoch 30/30\n",
            "7/7 [==============================] - 17s 2s/step - loss: 0.1166 - accuracy: 0.9495 - val_loss: 1.3432 - val_accuracy: 0.5900\n"
          ]
        }
      ]
    },
    {
      "cell_type": "code",
      "metadata": {
        "colab": {
          "base_uri": "https://localhost:8080/",
          "height": 545
        },
        "id": "JpSnyjZgXrFK",
        "outputId": "8556ceca-d369-457b-b78f-054dabf7dec9"
      },
      "source": [
        "import matplotlib.pyplot as plt\n",
        "accuracy = history.history[\"accuracy\"]\n",
        "val_accuracy = history.history[\"val_accuracy\"]\n",
        "loss = history.history[\"loss\"]\n",
        "val_loss = history.history[\"val_loss\"]\n",
        "epochs = range(1, len(accuracy) + 1)\n",
        "plt.plot(epochs, accuracy, \"bo\", label=\"Training accuracy\")\n",
        "plt.plot(epochs, val_accuracy, \"b\", label=\"Validation accuracy\")\n",
        "plt.title(\"Training and validation accuracy\")\n",
        "plt.legend()\n",
        "plt.figure()\n",
        "plt.plot(epochs, loss, \"bo\", label=\"Training loss\")\n",
        "plt.plot(epochs, val_loss, \"b\", label=\"Validation loss\")\n",
        "plt.title(\"Training and validation loss\")\n",
        "plt.legend()\n",
        "plt.show()"
      ],
      "execution_count": null,
      "outputs": [
        {
          "output_type": "display_data",
          "data": {
            "image/png": "[encoded data removed]",
            "text/plain": [
              "<Figure size 432x288 with 1 Axes>"
            ]
          },
          "metadata": {
            "needs_background": "light"
          }
        },
        {
          "output_type": "display_data",
          "data": {
            "image/png": "[encoded data removed]",
            "text/plain": [
              "<Figure size 432x288 with 1 Axes>"
            ]
          },
          "metadata": {
            "needs_background": "light"
          }
        }
      ]
    },
    {
      "cell_type": "code",
      "metadata": {
        "colab": {
          "base_uri": "https://localhost:8080/"
        },
        "id": "ZEk_BofPZ7Y2",
        "outputId": "12786052-a32b-4a01-9f97-ea7a85bc3797"
      },
      "source": [
        "test_model = keras.models.load_model(\"/content/drive/MyDrive/All-datasets/cats_and_dogs_small/convnet_from_scratch.keras\")\n",
        "test_loss, test_acc = test_model.evaluate(test_dataset)\n",
        "print(f\"Test accuracy: {test_acc:.3f}\")"
      ],
      "execution_count": null,
      "outputs": [
        {
          "output_type": "stream",
          "name": "stdout",
          "text": [
            "1/1 [==============================] - 1s 1s/step - loss: 0.6877 - accuracy: 0.6667\n",
            "Test accuracy: 0.667\n"
          ]
        }
      ]
    }
  ]
}